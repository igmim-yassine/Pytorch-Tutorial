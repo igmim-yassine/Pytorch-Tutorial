{
  "nbformat": 4,
  "nbformat_minor": 0,
  "metadata": {
    "colab": {
      "name": "01E_word_embeddings_Emines_NLPClass_Jan2022.ipynb",
      "provenance": [],
      "collapsed_sections": [],
      "include_colab_link": true
    },
    "kernelspec": {
      "name": "python3",
      "display_name": "Python 3"
    },
    "language_info": {
      "name": "python"
    }
  },
  "cells": [
    {
      "cell_type": "markdown",
      "metadata": {
        "id": "view-in-github",
        "colab_type": "text"
      },
      "source": [
        "<a href=\"https://colab.research.google.com/github/igmim-yassine/Pytorch-Tutorial/blob/master/01E_word_embeddings_Emines_NLPClass_Jan2022.ipynb\" target=\"_parent\"><img src=\"https://colab.research.google.com/assets/colab-badge.svg\" alt=\"Open In Colab\"/></a>"
      ]
    },
    {
      "cell_type": "markdown",
      "source": [
        "## Notebook Summary\n",
        "In this notebook, you will learn to:\n",
        "1. Perform text cleaning and text processing (Manually and with NLTK)\n",
        "2. Plot some statistics on a given text with nltk and wordcloud package\n",
        "3. Load and use Word2Vec Model to see analogies on words\n",
        "4. Use an `Embedding` layer of tensorflow.keras to train (or load) an embedding layer for sentiment analysis. "
      ],
      "metadata": {
        "id": "jLij-nbRDahK"
      }
    },
    {
      "cell_type": "code",
      "execution_count": 5,
      "metadata": {
        "id": "Gq6KNM5K0uRS",
        "colab": {
          "base_uri": "https://localhost:8080/"
        },
        "outputId": "a50079b4-848f-47f7-eb9a-aa0f37610742"
      },
      "outputs": [
        {
          "output_type": "stream",
          "name": "stdout",
          "text": [
            "Requirement already satisfied: nltk in /usr/local/lib/python3.7/dist-packages (3.2.5)\n",
            "Requirement already satisfied: six in /usr/local/lib/python3.7/dist-packages (from nltk) (1.15.0)\n",
            "Requirement already satisfied: gensim in /usr/local/lib/python3.7/dist-packages (3.6.0)\n",
            "Requirement already satisfied: numpy>=1.11.3 in /usr/local/lib/python3.7/dist-packages (from gensim) (1.19.5)\n",
            "Requirement already satisfied: scipy>=0.18.1 in /usr/local/lib/python3.7/dist-packages (from gensim) (1.4.1)\n",
            "Requirement already satisfied: six>=1.5.0 in /usr/local/lib/python3.7/dist-packages (from gensim) (1.15.0)\n",
            "Requirement already satisfied: smart-open>=1.2.1 in /usr/local/lib/python3.7/dist-packages (from gensim) (5.2.1)\n",
            "Requirement already satisfied: wordcloud in /usr/local/lib/python3.7/dist-packages (1.5.0)\n",
            "Requirement already satisfied: pillow in /usr/local/lib/python3.7/dist-packages (from wordcloud) (7.1.2)\n",
            "Requirement already satisfied: numpy>=1.6.1 in /usr/local/lib/python3.7/dist-packages (from wordcloud) (1.19.5)\n",
            "\u001b[31mERROR: Could not find a version that satisfies the requirement tenserflow (from versions: none)\u001b[0m\n",
            "\u001b[31mERROR: No matching distribution found for tenserflow\u001b[0m\n"
          ]
        }
      ],
      "source": [
        "!pip install nltk\n",
        "!pip install gensim\n",
        "!pip install wordcloud\n",
        "!pip install tenserflow"
      ]
    },
    {
      "cell_type": "code",
      "source": [
        "# MAIN IMPORTS\n",
        "import re\n",
        "import nltk\n",
        "import gensim\n",
        "import string\n",
        "import matplotlib.pyplot as plt\n",
        "import numpy as np"
      ],
      "metadata": {
        "id": "4USP5d1JhCLa"
      },
      "execution_count": 2,
      "outputs": []
    },
    {
      "cell_type": "markdown",
      "source": [
        "## 1. Text Processing"
      ],
      "metadata": {
        "id": "lctHiWLTEqe8"
      }
    },
    {
      "cell_type": "markdown",
      "source": [
        "### 1.1 Manual Text Preprocessing\n",
        "We will use the metamorphosis text of Kakfa, available at this link: \n",
        "https://drive.google.com/file/d/1ip_8SZt0eYqkQMivtbTfnNiEqImtJS2t/view?usp=sharing"
      ],
      "metadata": {
        "id": "xGHVO_wO05IC"
      }
    },
    {
      "cell_type": "code",
      "source": [
        "# read text file\n",
        "filename = '/content/metamorphosis.txt'\n",
        "file = open(filename, 'rt')\n",
        "text = file.read()\n",
        "file.close()"
      ],
      "metadata": {
        "id": "g5RekE-c1Yob"
      },
      "execution_count": 4,
      "outputs": []
    },
    {
      "cell_type": "code",
      "source": [
        "# split text into words by whitespace\n",
        "words = text.split()\n",
        "print('number of words', len(words))\n",
        "print(words[:50])"
      ],
      "metadata": {
        "colab": {
          "base_uri": "https://localhost:8080/"
        },
        "id": "Gt_fDc74hyGE",
        "outputId": "8f285699-5e32-458d-c642-aa469d560367"
      },
      "execution_count": 6,
      "outputs": [
        {
          "output_type": "stream",
          "name": "stdout",
          "text": [
            "number of words 22086\n",
            "['One', 'morning,', 'when', 'Gregor', 'Samsa', 'woke', 'from', 'troubled', 'dreams,', 'he', 'found', 'himself', 'transformed', 'in', 'his', 'bed', 'into', 'a', 'horrible', 'vermin.', 'He', 'lay', 'on', 'his', 'armour-like', 'back,', 'and', 'if', 'he', 'lifted', 'his', 'head', 'a', 'little', 'he', 'could', 'see', 'his', 'brown', 'belly,', 'slightly', 'domed', 'and', 'divided', 'by', 'arches', 'into', 'stiff', 'sections.', 'The']\n"
          ]
        }
      ]
    },
    {
      "cell_type": "code",
      "source": [
        "# another way to split by words\n",
        "# split based on words only\n",
        "words_2 = re.split(r'\\W+', text)\n",
        "print(words_2[:50])"
      ],
      "metadata": {
        "colab": {
          "base_uri": "https://localhost:8080/"
        },
        "id": "y2_U8u4th7F9",
        "outputId": "38fcbdbc-6e39-48eb-9a7d-25aa2bf0dc6b"
      },
      "execution_count": 7,
      "outputs": [
        {
          "output_type": "stream",
          "name": "stdout",
          "text": [
            "['One', 'morning', 'when', 'Gregor', 'Samsa', 'woke', 'from', 'troubled', 'dreams', 'he', 'found', 'himself', 'transformed', 'in', 'his', 'bed', 'into', 'a', 'horrible', 'vermin', 'He', 'lay', 'on', 'his', 'armour', 'like', 'back', 'and', 'if', 'he', 'lifted', 'his', 'head', 'a', 'little', 'he', 'could', 'see', 'his', 'brown', 'belly', 'slightly', 'domed', 'and', 'divided', 'by', 'arches', 'into', 'stiff', 'sections']\n"
          ]
        }
      ]
    },
    {
      "cell_type": "code",
      "source": [
        "# remove ponctuation. Python includes a constant string.punctuation that provides a great list of punctuation. \n",
        "print(string.punctuation)"
      ],
      "metadata": {
        "colab": {
          "base_uri": "https://localhost:8080/"
        },
        "id": "8BJ9U3WEiVRW",
        "outputId": "231efdb8-0861-4ec3-cf7f-b81d2cf15512"
      },
      "execution_count": 11,
      "outputs": [
        {
          "output_type": "stream",
          "name": "stdout",
          "text": [
            "!\"#$%&'()*+,-./:;<=>?@[\\]^_`{|}~\n"
          ]
        }
      ]
    },
    {
      "cell_type": "code",
      "source": [
        "# use regular expression to select for the punctuation characters and use the sub function to replace them with nothing. \n",
        "# create the punctuation regular expression\n",
        "re_punc = re.compile('[%s]'% re.escape(string.punctuation))\n",
        "stripped_words = [re_punc.sub('', w) for w in words]\n",
        "print(stripped_words[:50])"
      ],
      "metadata": {
        "colab": {
          "base_uri": "https://localhost:8080/"
        },
        "id": "EnM59rgWi9HL",
        "outputId": "f84f5d86-77ad-4ad5-a7a7-9ca496f81781"
      },
      "execution_count": 13,
      "outputs": [
        {
          "output_type": "stream",
          "name": "stdout",
          "text": [
            "['One', 'morning', 'when', 'Gregor', 'Samsa', 'woke', 'from', 'troubled', 'dreams', 'he', 'found', 'himself', 'transformed', 'in', 'his', 'bed', 'into', 'a', 'horrible', 'vermin', 'He', 'lay', 'on', 'his', 'armourlike', 'back', 'and', 'if', 'he', 'lifted', 'his', 'head', 'a', 'little', 'he', 'could', 'see', 'his', 'brown', 'belly', 'slightly', 'domed', 'and', 'divided', 'by', 'arches', 'into', 'stiff', 'sections', 'The']\n"
          ]
        }
      ]
    },
    {
      "cell_type": "code",
      "source": [
        "# filter out non printable characters\n",
        "print(string.printable)\n",
        "re_print = re.compile('[%s]'% re.escape(string.printable))\n",
        "result = [re_print.sub('', w) for w in stripped_words]\n",
        "# print(result[:50])"
      ],
      "metadata": {
        "id": "xXlpL-vhjo2j",
        "colab": {
          "base_uri": "https://localhost:8080/"
        },
        "outputId": "f9509a1b-f1df-4d9b-aedd-3b364b165ba0"
      },
      "execution_count": 18,
      "outputs": [
        {
          "output_type": "stream",
          "name": "stdout",
          "text": [
            "0123456789abcdefghijklmnopqrstuvwxyzABCDEFGHIJKLMNOPQRSTUVWXYZ!\"#$%&'()*+,-./:;<=>?@[\\]^_`{|}~ \t\n",
            "\r\u000b\f\n"
          ]
        }
      ]
    },
    {
      "cell_type": "code",
      "source": [
        "# it is common to convert all words to one case to shrink the vocabulary. \n",
        "# convert to lower case\n",
        "stripped_words = [w.lower() for w in stripped_words]\n",
        "print(stripped_words[:50])"
      ],
      "metadata": {
        "colab": {
          "base_uri": "https://localhost:8080/"
        },
        "id": "Q9A_oCfdkKhh",
        "outputId": "2af86a5a-37b7-4d31-fe54-84ca35cf31a7"
      },
      "execution_count": 19,
      "outputs": [
        {
          "output_type": "stream",
          "name": "stdout",
          "text": [
            "['one', 'morning', 'when', 'gregor', 'samsa', 'woke', 'from', 'troubled', 'dreams', 'he', 'found', 'himself', 'transformed', 'in', 'his', 'bed', 'into', 'a', 'horrible', 'vermin', 'he', 'lay', 'on', 'his', 'armourlike', 'back', 'and', 'if', 'he', 'lifted', 'his', 'head', 'a', 'little', 'he', 'could', 'see', 'his', 'brown', 'belly', 'slightly', 'domed', 'and', 'divided', 'by', 'arches', 'into', 'stiff', 'sections', 'the']\n"
          ]
        }
      ]
    },
    {
      "cell_type": "markdown",
      "source": [
        "### 1.2 Text Preprocessing with NLTK"
      ],
      "metadata": {
        "id": "WHBnDLsMkpaO"
      }
    },
    {
      "cell_type": "code",
      "source": [
        "# download data from the library\n",
        "nltk.download('punkt')\n",
        "nltk.download('stopwords')"
      ],
      "metadata": {
        "colab": {
          "base_uri": "https://localhost:8080/"
        },
        "id": "dDLuA-xlkzkv",
        "outputId": "b990d48b-e11f-4b6c-ff11-a8b79b80c36c"
      },
      "execution_count": 20,
      "outputs": [
        {
          "output_type": "stream",
          "name": "stdout",
          "text": [
            "[nltk_data] Downloading package punkt to /root/nltk_data...\n",
            "[nltk_data]   Unzipping tokenizers/punkt.zip.\n",
            "[nltk_data] Downloading package stopwords to /root/nltk_data...\n",
            "[nltk_data]   Unzipping corpora/stopwords.zip.\n"
          ]
        },
        {
          "output_type": "execute_result",
          "data": {
            "text/plain": [
              "True"
            ]
          },
          "metadata": {},
          "execution_count": 20
        }
      ]
    },
    {
      "cell_type": "code",
      "source": [
        "# split into sentences\n",
        "from nltk import sent_tokenize\n",
        "sentences = sent_tokenize(text)\n",
        "print(\"number of senteces\", len(sentences))\n",
        "for i in range(10):\n",
        "  print(sentences[i])"
      ],
      "metadata": {
        "id": "-E8kGM3Hk_K0",
        "colab": {
          "base_uri": "https://localhost:8080/"
        },
        "outputId": "60de89e1-5420-4054-9089-bc7a42d831e1"
      },
      "execution_count": 22,
      "outputs": [
        {
          "output_type": "stream",
          "name": "stdout",
          "text": [
            "number of senteces 797\n",
            "One morning, when Gregor Samsa woke from troubled dreams, he found\n",
            "himself transformed in his bed into a horrible vermin.\n",
            "He lay on\n",
            "his armour-like back, and if he lifted his head a little he could\n",
            "see his brown belly, slightly domed and divided by arches into stiff\n",
            "sections.\n",
            "The bedding was hardly able to cover it and seemed ready\n",
            "to slide off any moment.\n",
            "His many legs, pitifully thin compared\n",
            "with the size of the rest of him, waved about helplessly as he\n",
            "looked.\n",
            "\"What's happened to me?\"\n",
            "he thought.\n",
            "It wasn't a dream.\n",
            "His room,\n",
            "a proper human room although a little too small, lay peacefully\n",
            "between its four familiar walls.\n",
            "A collection of textile samples\n",
            "lay spread out on the table - Samsa was a travelling salesman - and\n",
            "above it there hung a picture that he had recently cut out of an\n",
            "illustrated magazine and housed in a nice, gilded frame.\n",
            "It showed\n",
            "a lady fitted out with a fur hat and fur boa who sat upright,\n",
            "raising a heavy fur muff that covered the whole of her lower arm\n",
            "towards the viewer.\n"
          ]
        }
      ]
    },
    {
      "cell_type": "code",
      "source": [
        "from nltk.tokenize import word_tokenize\n",
        "# split into words\n",
        "tokens = word_tokenize(text)\n",
        "print(len(tokens))\n",
        "print(tokens[:50])"
      ],
      "metadata": {
        "id": "iXl0kqpwlNwa",
        "colab": {
          "base_uri": "https://localhost:8080/"
        },
        "outputId": "40a56fff-f8ef-4b8d-e7d5-5a9c3d27aca2"
      },
      "execution_count": 23,
      "outputs": [
        {
          "output_type": "stream",
          "name": "stdout",
          "text": [
            "24936\n",
            "['One', 'morning', ',', 'when', 'Gregor', 'Samsa', 'woke', 'from', 'troubled', 'dreams', ',', 'he', 'found', 'himself', 'transformed', 'in', 'his', 'bed', 'into', 'a', 'horrible', 'vermin', '.', 'He', 'lay', 'on', 'his', 'armour-like', 'back', ',', 'and', 'if', 'he', 'lifted', 'his', 'head', 'a', 'little', 'he', 'could', 'see', 'his', 'brown', 'belly', ',', 'slightly', 'domed', 'and', 'divided', 'by']\n"
          ]
        }
      ]
    },
    {
      "cell_type": "code",
      "source": [
        "# filter punctuation. \n",
        "# remove all tokens that are not alphabetic\n",
        "words = [word for word in tokens if word.isalpha()]\n",
        "print(words[:50])"
      ],
      "metadata": {
        "id": "aMWx_tpTlVW-",
        "colab": {
          "base_uri": "https://localhost:8080/"
        },
        "outputId": "1969db0f-f741-4b0a-8893-c29c555f26a9"
      },
      "execution_count": 24,
      "outputs": [
        {
          "output_type": "stream",
          "name": "stdout",
          "text": [
            "['One', 'morning', 'when', 'Gregor', 'Samsa', 'woke', 'from', 'troubled', 'dreams', 'he', 'found', 'himself', 'transformed', 'in', 'his', 'bed', 'into', 'a', 'horrible', 'vermin', 'He', 'lay', 'on', 'his', 'back', 'and', 'if', 'he', 'lifted', 'his', 'head', 'a', 'little', 'he', 'could', 'see', 'his', 'brown', 'belly', 'slightly', 'domed', 'and', 'divided', 'by', 'arches', 'into', 'stiff', 'sections', 'The', 'bedding']\n"
          ]
        }
      ]
    },
    {
      "cell_type": "markdown",
      "source": [
        "Stop words are those words that do not contribute to the deeper meaning of the phrase. They\n",
        "are the most common words such as: the, a, and is. For some applications like documentation\n",
        "classification, it may make sense to remove stop words. NLTK provides a list of commonly\n",
        "agreed upon stop words for a variety of languages, such as English. They can be loaded as\n",
        "follows:"
      ],
      "metadata": {
        "id": "97QXZX3kldae"
      }
    },
    {
      "cell_type": "code",
      "source": [
        "from nltk.corpus import stopwords\n",
        "stop_words = stopwords.words('english')\n",
        "print(\"number of stop words\", len(stop_words))\n",
        "print(stop_words)"
      ],
      "metadata": {
        "id": "ucATSI4jlbzq",
        "colab": {
          "base_uri": "https://localhost:8080/"
        },
        "outputId": "8b2ef3ee-7cad-4971-e923-30474157ed59"
      },
      "execution_count": 26,
      "outputs": [
        {
          "output_type": "stream",
          "name": "stdout",
          "text": [
            "number of stop words 179\n",
            "['i', 'me', 'my', 'myself', 'we', 'our', 'ours', 'ourselves', 'you', \"you're\", \"you've\", \"you'll\", \"you'd\", 'your', 'yours', 'yourself', 'yourselves', 'he', 'him', 'his', 'himself', 'she', \"she's\", 'her', 'hers', 'herself', 'it', \"it's\", 'its', 'itself', 'they', 'them', 'their', 'theirs', 'themselves', 'what', 'which', 'who', 'whom', 'this', 'that', \"that'll\", 'these', 'those', 'am', 'is', 'are', 'was', 'were', 'be', 'been', 'being', 'have', 'has', 'had', 'having', 'do', 'does', 'did', 'doing', 'a', 'an', 'the', 'and', 'but', 'if', 'or', 'because', 'as', 'until', 'while', 'of', 'at', 'by', 'for', 'with', 'about', 'against', 'between', 'into', 'through', 'during', 'before', 'after', 'above', 'below', 'to', 'from', 'up', 'down', 'in', 'out', 'on', 'off', 'over', 'under', 'again', 'further', 'then', 'once', 'here', 'there', 'when', 'where', 'why', 'how', 'all', 'any', 'both', 'each', 'few', 'more', 'most', 'other', 'some', 'such', 'no', 'nor', 'not', 'only', 'own', 'same', 'so', 'than', 'too', 'very', 's', 't', 'can', 'will', 'just', 'don', \"don't\", 'should', \"should've\", 'now', 'd', 'll', 'm', 'o', 're', 've', 'y', 'ain', 'aren', \"aren't\", 'couldn', \"couldn't\", 'didn', \"didn't\", 'doesn', \"doesn't\", 'hadn', \"hadn't\", 'hasn', \"hasn't\", 'haven', \"haven't\", 'isn', \"isn't\", 'ma', 'mightn', \"mightn't\", 'mustn', \"mustn't\", 'needn', \"needn't\", 'shan', \"shan't\", 'shouldn', \"shouldn't\", 'wasn', \"wasn't\", 'weren', \"weren't\", 'won', \"won't\", 'wouldn', \"wouldn't\"]\n"
          ]
        }
      ]
    },
    {
      "cell_type": "markdown",
      "source": [
        "**Exercise 1**: \n",
        "Write a function `process_text` that takes an input the raw text filename and output a list of \"clean\" words using the function implemented above: \n",
        "* put all words in lowercase\n",
        "* remove all punctuation\n",
        "* remove tokens that are not alphabetic\n",
        "* filter out stop words\n"
      ],
      "metadata": {
        "id": "J0ltjl7Vl2bB"
      }
    },
    {
      "cell_type": "code",
      "source": [
        "def preprocess_text(filename):\n",
        "  return words"
      ],
      "metadata": {
        "id": "xFGjJLPjl01o"
      },
      "execution_count": null,
      "outputs": []
    },
    {
      "cell_type": "code",
      "source": [
        "words = preprocess_text('/content/drive/MyDrive/12_Teaching/UM6P-NLP-Jan2022/notebooks/metamorphosis.txt')"
      ],
      "metadata": {
        "colab": {
          "base_uri": "https://localhost:8080/"
        },
        "id": "aqRSlmpWWsti",
        "outputId": "c92ec263-bfb2-466a-a064-6a5c94528fd9"
      },
      "execution_count": null,
      "outputs": [
        {
          "output_type": "stream",
          "name": "stdout",
          "text": [
            "['one', 'morning', 'gregor', 'samsa', 'woke', 'troubled', 'dreams', 'found', 'transformed', 'bed', 'horrible', 'vermin', 'lay', 'armourlike', 'back', 'lifted', 'head', 'little', 'could', 'see', 'brown', 'belly', 'slightly', 'domed', 'divided', 'arches', 'stiff', 'sections', 'bedding', 'hardly', 'able', 'cover', 'seemed', 'ready', 'slide', 'moment', 'many', 'legs', 'pitifully', 'thin', 'compared', 'size', 'rest', 'waved', 'helplessly', 'looked', 'happened', 'thought', 'nt', 'dream', 'room', 'proper', 'human', 'room', 'although', 'little', 'small', 'lay', 'peacefully', 'four', 'familiar', 'walls', 'collection', 'textile', 'samples', 'lay', 'spread', 'table', 'samsa', 'travelling', 'salesman', 'hung', 'picture', 'recently', 'cut', 'illustrated', 'magazine', 'housed', 'nice', 'gilded', 'frame', 'showed', 'lady', 'fitted', 'fur', 'hat', 'fur', 'boa', 'sat', 'upright', 'raising', 'heavy', 'fur', 'muff', 'covered', 'whole', 'lower', 'arm', 'towards', 'viewer']\n"
          ]
        }
      ]
    },
    {
      "cell_type": "markdown",
      "source": [
        "## 2. Statistics on Text and Word Visualizaton"
      ],
      "metadata": {
        "id": "TwqOIe5s1c4s"
      }
    },
    {
      "cell_type": "code",
      "source": [
        "from nltk.probability import FreqDist\n",
        "# histogram of most common words. \n",
        "fdist = FreqDist(words)\n",
        "fdist1 = fdist.most_common(30)"
      ],
      "metadata": {
        "id": "Eiz1G5uJoXYb"
      },
      "execution_count": null,
      "outputs": []
    },
    {
      "cell_type": "markdown",
      "source": [
        "**Exercise 2:**\n",
        "Plot the histogram of most common words using `plt.bar`"
      ],
      "metadata": {
        "id": "-Z-o9EBdXIJ5"
      }
    },
    {
      "cell_type": "code",
      "source": [
        "def plot_most_common_words(fdist1):\n"
      ],
      "metadata": {
        "id": "m5RAShhNW-p_"
      },
      "execution_count": null,
      "outputs": []
    },
    {
      "cell_type": "code",
      "source": [
        "plot_most_common_words(fdist1)"
      ],
      "metadata": {
        "colab": {
          "base_uri": "https://localhost:8080/",
          "height": 319
        },
        "id": "UW9aY18Dyxmv",
        "outputId": "659b3c7f-dffc-4a4e-c300-f924af92c211"
      },
      "execution_count": null,
      "outputs": [
        {
          "output_type": "display_data",
          "data": {
            "image/png": "[encoded data removed]",
            "text/plain": [
              "<Figure size 3600x720 with 1 Axes>"
            ]
          },
          "metadata": {
            "needs_background": "light"
          }
        }
      ]
    },
    {
      "cell_type": "markdown",
      "source": [
        "**Exercise 3**: \n",
        "Plot a wordcloud plot on the processed \"words\".   \n",
        "See for example the following tutorial: https://towardsdatascience.com/simple-wordcloud-in-python-2ae54a9f58e5\n"
      ],
      "metadata": {
        "id": "mP5qUxX4y5w5"
      }
    },
    {
      "cell_type": "code",
      "source": [
        "from PIL import Image\n",
        "from wordcloud import WordCloud, STOPWORDS, ImageColorGenerator"
      ],
      "metadata": {
        "id": "SDa2npbKrnBW"
      },
      "execution_count": null,
      "outputs": []
    },
    {
      "cell_type": "code",
      "source": [
        "# Create and generate a word cloud image:\n"
      ],
      "metadata": {
        "colab": {
          "base_uri": "https://localhost:8080/",
          "height": 198
        },
        "id": "St8y1w1htVqJ",
        "outputId": "80c39a1a-e358-4dc2-da4a-d5ba0950658f"
      },
      "execution_count": null,
      "outputs": [
        {
          "output_type": "display_data",
          "data": {
            "image/png": "[encoded data removed]",
            "text/plain": [
              "<Figure size 432x288 with 1 Axes>"
            ]
          },
          "metadata": {
            "needs_background": "light"
          }
        }
      ]
    },
    {
      "cell_type": "markdown",
      "source": [
        "## 3. Word2Vec Model\n",
        "We will use the `gensim` library: https://radimrehurek.com/gensim/ \n",
        "\n",
        "Gensim is an open source Python library for natural language processing, with a focus on topic modeling.  \n",
        "Using gensim, you can load and use pretrained embedding models like Word2Vec and GloVe. \n"
      ],
      "metadata": {
        "id": "m-rat63W1aoO"
      }
    },
    {
      "cell_type": "code",
      "source": [
        "from gensim.models import KeyedVectors\n",
        "from gensim.test.utils import datapath\n",
        "import gensim.downloader as api\n",
        "import pprint\n",
        "nltk.download('reuters')\n",
        "from nltk.corpus import reuters\n",
        "import random\n",
        "import scipy as sp\n",
        "from sklearn.decomposition import PCA\n",
        "np.random.seed(0)\n",
        "random.seed(0)\n",
        "# ----------------"
      ],
      "metadata": {
        "id": "Qcq58uGn1kkq",
        "colab": {
          "base_uri": "https://localhost:8080/"
        },
        "outputId": "65987a63-8882-4b58-dadd-03324cb1476f"
      },
      "execution_count": null,
      "outputs": [
        {
          "output_type": "stream",
          "name": "stdout",
          "text": [
            "[nltk_data] Downloading package reuters to /root/nltk_data...\n"
          ]
        }
      ]
    },
    {
      "cell_type": "markdown",
      "source": [
        "### 3.1 Load pretrain Word2Vec embeddings\n",
        "We use `gensim.downloader` api to download pretrained word embedding models.  \n",
        "https://radimrehurek.com/gensim/downloader.html"
      ],
      "metadata": {
        "id": "bA7PEDzwqss9"
      }
    },
    {
      "cell_type": "code",
      "source": [
        "# load pretrained word2vec embeddings\n",
        "def load_word2vec():\n",
        "    \"\"\" Load Word2Vec Vectors\n",
        "        Return:\n",
        "            wv_from_bin: All 3 million embeddings, each lengh 300\n",
        "    \"\"\"\n",
        "    wv_from_bin = api.load(\"word2vec-google-news-300\") #TODO use the same kind of stuff for GLOVE. \n",
        "    vocab = list(wv_from_bin.vocab.keys())\n",
        "    print(\"Loaded vocab size %i\" % len(vocab))\n",
        "    return wv_from_bin"
      ],
      "metadata": {
        "id": "JG24ZM6rn-Pk"
      },
      "execution_count": null,
      "outputs": []
    },
    {
      "cell_type": "code",
      "source": [
        "# -----------------------------------\n",
        "# Run Cell to Load Word Vectors\n",
        "# Note: This may take several minutes\n",
        "# -----------------------------------\n",
        "model = load_word2vec()"
      ],
      "metadata": {
        "colab": {
          "base_uri": "https://localhost:8080/"
        },
        "id": "SMu-Yy8_oLGX",
        "outputId": "f70c7155-bedc-400c-9dff-2980935724a8"
      },
      "execution_count": null,
      "outputs": [
        {
          "output_type": "stream",
          "name": "stdout",
          "text": [
            "[==================================================] 100.0% 1662.8/1662.8MB downloaded\n",
            "Loaded vocab size 3000000\n"
          ]
        }
      ]
    },
    {
      "cell_type": "markdown",
      "source": [
        "Cosine Similarity (most_similar function is based on cosine similarity).\n",
        "Now that we have word vectors, we need a way to quantify the similarity between individual words, according to these vectors. One such metric is cosine-similarity. We will be using this to find words that are \"close\" and \"far\" from one another.\n",
        "\n",
        "We can think of n-dimensional vectors as points in n-dimensional space. If we take this perspective L1 and L2 Distances help quantify the amount of space \"we must travel\" to get between these two points. Another approach is to examine the angle between two vectors. From trigonometry we know that:\n",
        "\n",
        "![inner_product.png](data:image/png;base64,iVBORw0KGgoAAAANSUhEUgAAAWgAAAEUCAYAAAAGBaxvAAAAAXNSR0IArs4c6QAAAAlwSFlzAAALEwAACxMBAJqcGAAAAVlpVFh0WE1MOmNvbS5hZG9iZS54bXAAAAAAADx4OnhtcG1ldGEgeG1sbnM6eD0iYWRvYmU6bnM6bWV0YS8iIHg6eG1wdGs9IlhNUCBDb3JlIDUuNC4wIj4KICAgPHJkZjpSREYgeG1sbnM6cmRmPSJodHRwOi8vd3d3LnczLm9yZy8xOTk5LzAyLzIyLXJkZi1zeW50YXgtbnMjIj4KICAgICAgPHJkZjpEZXNjcmlwdGlvbiByZGY6YWJvdXQ9IiIKICAgICAgICAgICAgeG1sbnM6dGlmZj0iaHR0cDovL25zLmFkb2JlLmNvbS90aWZmLzEuMC8iPgogICAgICAgICA8dGlmZjpPcmllbnRhdGlvbj4xPC90aWZmOk9yaWVudGF0aW9uPgogICAgICA8L3JkZjpEZXNjcmlwdGlvbj4KICAgPC9yZGY6UkRGPgo8L3g6eG1wbWV0YT4KTMInWQAAPjtJREFUeAHtnQncbtXc/v3/r4pGFUpHnYZTkiIaqHBSKqIXUbxpUMqQKeQlURGFJEqDoXkipRQNUkiZmkVono4olBJS+v+v77PXdc46u/s5z3M/z3Pf5xmu3+dz7bXWb6+9hmvvfe11r3vd+37CE2JhIAyEgTAQBsJAGAgDYSAMhIEwEAbCQBgIA2EgDISBMBAGwkAYCANhIAyEgTAQBiYwA/93Arc9TQ8DYSAMTEoGEOb/qnr2f6p4omEgDISBMDAfGECYn1jVu7Tii5Z0RLoiJtEwEAbCQL8YQHxrYSb+YeFLgkfSEWiREQsDYSAM9IuBTsL8ZlX+K+H/CTNLQ2rxLq4EYSAMhIEw0AsG2sJMHa8RLhMQZnCwgOWLwoaHbMNAGAgDPWeA0XA9XbGZ0hcKFmbCW4SnC5inOJpUtmEgDISBMDDmDCC09Wh4A6W/LViYH1P84ZLeXSGWqY2Gh2zDQBgIAz1hoC3Mz1ctJwn/ESzOjyj+75K+RKGFvB5pyx0LA2EgDISBsWAAka1HwM9S+gjhH4KFGVFm5Azse7niWH1s48k2DISBMBAGxpSBaSrtQOEvgkWYEXN7BM2+YwWMkXNGzwNUZBMGwkAYGHsGGDEfIvxLsDAT1sJM+tGy/88KVxGwfDHY8JDtJGIgHwkn0cmcoF1h1IvoLi5sIbAS4xsCxnTGM4RXCuTBnJ/4F4SbBa5jRDsWBsJAGAgDPWBgsOmJU1QX4mww1UH8GmERAfMXhE0q2zAQBsLAJGBgMFEczN+PLi9UKllM4fkCYswUxxWCxRnf1gKWT4END9mGgTAwSRhAgD1ny+izjns0iq/fQr1A4fepCn8keNT8HsW3qdJnKW7rdxtdb8IwEAbCwJgzYAFuF2xxbPv7JYCuf1k14KeCxXnv0qAdiu8BhayLxjJ6bnjIdpIykAt8kp7YQbrFqJjpAkR6R+HZwj8F5nlvEJ4m7CLwus6fCecKCCUiTdgrQ5yZvlhBYHRsAWbk/GUBW7AJBtJXK05f8sVgISVBGAgDE5sBj5wXVjeOEj4lIISfFW4VthTwbye8WXhIeL+AeQqkSY3t1iPnVVXsrwUeBIj1bgJmYd5T8XuFJXHKetmmpoZsw0AYCAN9YIARsKcqDlJ8j6pOPkXdJSCMbyz+U0v6yJLulRhanBnJM4KnDSyt217AeKg4z8cU/wBOWT75NTxkGwbCwCRgwAK7qfpycqs/yyjNL/ZuEZxvP8UvEFYTMI++m9TYbC2y66q42wXE+e+CV2fQFj9UFH0C+Z5CRFb7G0+2YSAMhIEJyoAFdnO1f5PSB08dbKQ04vi14m+LXztdso0qsDjzdro/CNT/N+HVAtYW57oNdbzJnW0YCANhYIIzUAsbcY+WP6g4ArlT6Z+nFBB1C3vZNeqAei3OPCj4qTZ1M4J/mYC1xbnxNtu6D7U/8TAQBsLAhGcA8WPkXAvdOUojkmsI2LwEsskxsi11+qHAF5L3CdQ7S3ixgFm8m1S2YSAMhIEpwkAtyu7yUoowiv2d4F/wedTMOzA8DaLoqKwW59epJL8+9E7F1yklR5xHRXEODgNhYKIyYNGdpg4wtcA6Z+wlAqPYY0jIPL2xnOL4nK+TuJN/OMaxrp/VGf8SqPP3wpoC5nqbVLZhIAyEgSnCgMURsf2xgDi+tvT9yyX97pJ23n2U/mjLV5JdBZRncd9Z8UcF6r9eWE3AIs4ND9mGgTAwBRnwvO8M9R1xZDkdy9VeJpwpsIridMH2VkVOEiycFm3vH25YH/deHUTd4CpheQFzHU0q2zAQBuZiwDfvXM4kJiUDf1WvHhMQScSa5XWs4DhL4AcqrDPeQuDn3oyeWZPM9cEx3Rri7OP2VJz3NmP8fJzR+ywBcX5EiIWBMBAGpjQDnmaAhFUE5p7rLwCJsyZ5LcE20od3fdw+Kswj5x8rzpeSWEbODQ/ZhoEwEAYGGECk62kHnIhpLaj4sHa+xjv0ti7rQGW3OJ+n+OLl8Ijz0DwmRxgIA1OUAUSUJW31qJo4vlpglezK6mOZ0rA4n634k0tJ1BELA2EgDISBPjJQC+9XVa/F+VTFLdx1nj42LVWFgTAQBqYuAxZeRuHHChbn4xT3KN155IqFgTAQBsJAPxiw8BKeJlic/ZpS2uA8xGNhIAyEgTDQBwb8Zd/Cqus7gsX54KpuT29UrkTDQBgIA2Gglwx4VLyYKrlAsDizcsMWcTYTCcNAGAgDfWLAI+enqr5LBIvz3lX9EeeKjETDQBgIA/1gwOLMm+5+KlicP1RVPtI11FURiYaBMBAGwkA3DFicp+ugawWL8+6lEFZsRJwLGQnCQBgIA/1iwOK8mir8tYA482a6XQQs4tzwkG0YCANhoK8M+AtB3t18k4A4807n7QSMUbPXOw84sgkDYSAMhIHeM+CR83qq6g4BceYtd36fNF8GRpxFQiwMhIEw0C8GEF2PnHkt6d0C4ny/wP8JYhHnhodsw0AYCAN9Y6AW55erVt4jjTjfI2wsYIh3Rs4DVGQTBsJAGOgPA4iu1zC/WnFGzIjzH4QNBcwj6yaVbRgIA2EgDPScAcSZL/ywNwj/FBDnW4XnC5jnpJtUtmEgDISBMNBzBhBmi/MOij8sIM43CGsIWMS54SHbMBAGwkDfGECYPZ+8m+L/ERDn64QZAhZxbnjINgyEgTDQNwY8aqbC9woIM7hCeKaARZwbHrINA2EgDPSNgVqcP6xaLc68Y2OZ0oqIc99ORyoKA2EgDDQMeKUGqf0Ei/NFii8pYBHnhodsw0AYCAN9Y6AW58+qVovzeYrzfmcsS+kaHrINA2EgDPSNgVqcD1WtFudvK/6k0oqIc99ORyoKA2EgDDQM1MKbf97OVREGwkAYGCcMWJxZTnei4JHz0VX7nKdyJRoGwkAYCAO9ZMDCu5AqOU2wOB9eVeo8lSvRMBAGwkAY6CUDFl7ml88RLM755+1esp6yw0AYCANDMOBlck9RvgsFi/Mnq+PqLw0rd6JhIAyEgTDQKwYszu1/3v5YVWHEuSIj0TAQBsJAPxiwOE9TZb8UPHJ+f1V5/SvCyp1oGAgDYSAM9IoBi/PKquAaAXHm5Ue7C1j9StHGk20YCANhIAz0nAGLM/+8/TvB4vyWUnPEuRCRIAyEgTDQTwa8WmNtVXqzgDj/Q3ijgDGl4VeKDjiyCQNhIAyEgd4zYHFeV1XdKSDO+eft3vOeGsJAGAgD82TA4vxS5fqTgDjfJ2wmYKzUyMh5gIpswkAYCAP9YQDRtTgjxn8REOc/ChsLGPsjzgNUZBMGwkAY6A8DiK7XMG+l+IMC4sw/b79QwCzeTSrbMBAGwkAY6DkDiLPXMPMFIF8EIs58McgXhJhXczSpbMNAGAgDYaDnDCDMFucdFH9EQJzzz9siIRYGwkAYmF8MIMyeT36n4o8JiPO1wkoClpFzw0O2YSAMhIG+MeBRMxW+T0CYweXC8gIWcW54yDYMhIEw0DcGanHeS7VanC9TnBchYRHnhodsw0AYCAN9Y8ArNajwk4LFmVeH5p+3YSUWBsJAGJgPDNTi/DnVb3E+V/FFSnuylG4+nJhUGQbCwNRmoBZn/pbK4vwtxRcs1EScp/Y1kt6HgTAwHxiohbf+5+2T1Rbvczgfmpcqw0AYCANTkwELL18MniJ45Pz1ig7nqVyJhoEwEAbCQC8ZsPDyz9unCxbnw6pKnadyJRoGwkAYCAO9ZMDCy5d/3xMszgdVldbz0pU70TAQBsJAGOgVA17DzLK5iwSL835VhRHnioxEw0AYCAP9YMDi/HRV9hPB4vzRqvL6hyqVO9EwEAbCQBjoFQMW52eqgisFi/MeVYUR54qMRMNAGAgD/WDA4ryKKuNlR4gzLz96h4DVrxRtPNmGgTAQBsJAzxnwF4LPVk2/FxDnfws7CRij5oycB6jIJgyEgTDQPwY8cubF+rcIiPM/hW0EDGH2K0UHHNmEgTAQBsJA7xnwyJm/pLpLQJwfEP5bwFipEXEeoCKbMBAGwkB/GEB0Lc4zFb9XQJz5k9fNBIz9EecBKrIJA2EgDPSHgVqct1CV/uftPyn+0tIEi3d/WpRawkAYCANhYGBE7B+YvEZ8PCQwcr5DWE/APCfdpLINA2EgDISBnjPAyNni/CbF/c/bfDH43FJ7Rs6FiARhIAyEgX4xUK/E2FmVPiowcr5eWF3AMnJueMg2DISBMNA3Bmpx5p+3EWaQf97u2ylIRWEgDISBxzOAONs+oIjF+ZeKTys7MnI2QwnDQBgIA31iwPPNVLe3YHH+seL5521YiYWBMBAG5gMDtTjvr/otzj9QfInSnnwhOB9OTKoMA2FgajNQi/PBosLifLbiCxdqMq0xta+R9D4MhIH5wEA9Kj5c9Vuc+buq/PP2fDghqTIMhIEwAAO1OB+rtMX5BMX9ZWGdh2NiYSAMhIEw0GMGLLxMXdT/vP3Vql7nqVyJhoEwEAbCQC8ZsPAyhXGm4JHzoVWl9bx05U40DISBMBAGesWAxXlxVXCuYHE+sKow4lyRkWgYCANhoB8MeCVG+5+3P1FVHnGuyEg0DISBMNAPBizOy6iynwkeOX+oqtxfDFauRMNAGAgDYaCXDFicV1AlVwgW5/eVSnlrXcS5kJEgDISBMNAvBizOq6jC3wgW591KAyLO/ToTqScMhIEwUDFgcV5TPv/z9r8U377kYdSckXMhI0EYCANhoF8MeLUG/7x9m8DIuf7nbb4MZPQcCwNhIAyEgT4yYHHeUHX+QUCc/yZsKWAR54aHbMNAGAgDfWOAEbHFeWPF+VNXxJl/4N5MwNifkfMAFdmEgTAQBvrDAKLrNcyvVJwRM+KMSDOSxizeTSrbMBAGwkAY6DkDtTi/XrU9KCDOtwn+5+2Is8iIhYEwEAb6yQDi7JUY/PP2wwLifLOwloB5NUeTyjYMhIEwEAZ6zgDC7PnkXRX3P2+z3nnVUnvEuRCRIAyEgTDQLwY8aqa+3QVGzeAaYSUBizg3PGQbBsJAGOgbA7U48y4NizP/H/iM0orMOfftdKSiMBAGwkDDgFdqkPq4YHF+SPH345Qt1ATZhoEwEAbCQL8YqMX506rU4vxdxVcRviX4Z9wZQYuMWBgIA2GgHwzU4vxFVWhxPkvxxUoDpilkmmNmSWcOuhCRIAyEgTDQKwbq0fARqsTifJri/uftJ5fKn6/wYmHFkq6PLa4EYSAMhIEwMBYM1AJ7ggq0OB9XFe48HjG/RvuY9rB416Pv6rBEw0AYCANhYKQM1MJ7qgqxOB9VFeg8djm9lxyMtjHWSnu99IAjmzAQBsJAGBg5AxbaJ6kI5pktzsw/2zqNjGshPk4Z31UyuzwfmzAMhIEwEAZGwICnKvjn7fMFi/MBVVmdxNm7vW9JOS4Q1i07ItJmKGEYCANhYAQMWJyX1rE/FCzO+1RlWYAr1+OiLmdj7anno+sfuTzuoDjCQBgIA2GgMwMW1WW1+xeCxXnPKns3AusRM+L+2VLGcMS9qi7RMBAGwkAYsDjzz9tXChbn91TUdCPOHOb8zEufKWyGU2bhblLZhoEwEAbCwKAMWDBXU47rBcSZN9O9VcAQWIvtgKOLjcvmvdBMdSxcjh1peV1UnaxhIAyEgYnNgEfO/PP2jQLizDudtxMwhLRemTHg7HJjkf6Ejtu3HGtfl0UlexgIA2FgajBgkVxH3b1dQJz/LvCvKNhYiLPLIWT0fI6wNgmZ629S2YaBMBAGwsDAiNjiuJH4uFtAnO8XthQw9o925DxQUNm4vq2VPqHaMZZ1VMUmGgbCQBiYeAwgiBbLTRXnH7cR5z8LmwgYKy3GWjjr8o5X+a+lIpnb0qSyDQNhIAxMUQYQSS9ze5XiDwiI8yyhH/+8bTFeX/WdIXj+uxZvuWNhIAyEganFQC3OzDEz14w43yEwB41ZQJtUb7Z+QPCT8V1LFf2otze9SalhIAyEgVEygDh7lMoL9f8tIM43CM8RMI9mm1TvthboZ6uKs4Qsu+sd1yk5DISBcc4AKzEAxoj1PwLiPD//edvt4deFbxOwjKIbHrINA2FgijBgIaS77xUQZnCVwC8GsX6NnJvamq1H0WsoyVz0k8tOj/JLMkEYCANhYHIyUIvz/6qLFuefKs67NrD5Ic5NzXNG9V+SY4fizCja7CQMA2Fg0jLgESod5EVFFucfKb6UgM1vMXT9G6gtpwy0qNlkFF2RkWgYCAOTi4FanD+jrlmcz1V8sdLV+Tly7sT20XJuVnZYuDvliy8MhIEwMGEZqMWZZWwW5+8ozj+jYONJAN2WbdSuwwZa16w2ySi6kJEgDISBycGAxY7efFWwODN94H0OyTMezPPki6ox3xJWKY2qHzS9bCcPAtrgdvSyrpQdBsLAFGXAwouwHS9YnI9V3KNR5xlvFFmMmSv3u6ft61VbKb9dRydfr+pPuf1ngPPre6H/tfe+xsnev6EYHLcDLQsvIaNQi/ORVY/aYlTtmu9Rt41fM54k+CZyONYNdH0ulyV+9Qi6jjtPwonLANdRfS3V8Ynbq8FbPtn716nndZ/b93en/H3zWZwXUY1nCxbnz1ctGFcNrtrlaE3ucXK+qOxw35xvLEJzMU2FfVL4uXCLwLrwQwXWZWMR6YaHib6tr61XqTPLlw5NlvPr/hFuJXj5rP2lu1MiYJHB6qWnvdCOrkn0SgxWZvDP2RbnA6qSLEiVa1xGTei71bqPlRaOddtdHiP1mwTzdV8Vv1/x1wiY8zepbCciAxbiPdR4VgotVDoxWQTM1+hz1K+bhVVL/+wvyUkd+BzPVC+/L6xWemtNmS+dtzg/TbX/RLDYfLRqzUQ6SW7rmmr/yYLJNflVt0YUdTmMMLiQ4esi4YUCHK4lfFPAz0uk1hUwt6tJZTuRGPA1tIMafamwYGn8ZDqn7iPf35xT+sfDZ7I8gEqXhgzMw5uV83Jh8XKE7/shCxjLDBbn5VTozwSL855VJfOlYVX93UZ9QREeJ4y1QJoPpn7g61fCU4XaOMkXCuz/brXDbatciY5zBizCM9TOGwV+DIX53mlS/d9yLdE2MNh1hX+wfdo12+o8l8m7c9ljsZqdcQpE4ML3+AmKs3INw1/zNODs5cYX2HRVcq1gcd69qtQNrVwTIuqbip+l894QzL4mNbKty3imDp8lwNk7SlGsDYcvQmwLwZz6pvbxAxmyGfcM1Dcl38scW1o8HOHiWmjf0KTH4p5ql0uz2r52mjyDmfvzEmXgxWd8EsTabe3UpybnyLbmYzhtJc9w8nXTksH64/uU+/xeYctSqHnqpo4R5bU4MxF+vYCQ/FvYWcBoePvkDOyYIBsTOVPtPapq82hPsMvdTmXC2d8EOMR8Us3b0vIx4iLfxwXMeZrU+N6OlquhetdN+d3kpd5u8s8rr8/XRiqTc/1cCpfZ36Tm3rKvLtPXTH1MO8/cJcw75euLXC8QmMqzuV6H9g8Vum18uX1cyWzfUMd6P/lpG3XTZ7fBfWVft2XqkCHN5VL2YOXPa99gFbisY5Th0iqT+1W5xjbqC4YTy6oDBORhAdHBTHKTmphb+oA9ReAjyjQSMvubVPdbn7TP6FB4u1rwHBUPPfbDr/Odpzj5zhBsPT/BrmgEoS92H0q6vtnsJ6z76v6S32UQts377IcLju3ECT7qrsshb51Wcraxz+3A2U7PzqhIux3O3y7b5Z2kDEwB2jq1l33OT3wJNsXsJ+SLeNtg5Xh/O3R+wk8KCOqPBa5Hm/uwjBx84b9r2WG/8zm0nyWi1whblR1wXxt14nNf6n0uo/YR7+R3H7yf+6b24e9k1N1u01DlU05ddjs+WH84znVtrDj66E/B9ss19ubC11fRdwqIx4NCvdqg7oR2TVjzyfuSesCyKMz9b1LdbWteTtehcMeXgfOyL2gn+a4QFi4Z3a6SHDfBUO0aan/NjztV+zrd2M5HWOcdqq56P8fNq+z2vvrYuv523Pl4yN8jDLUiyPWsobyc968IJwuvFLBNBX5PwPX4IWERAav73XgG37pN71eW/Us2Qq6x55X0k0q4W/H709tg1779aMDVAkKNuS73a3n5+NLM3095v0NG87SF/r1TcLkI/ueFvQS4wbxvM8V/K2yCU2Z/k5qbm2/ICZ82t2tROd4lHCCsV3aaU4cz5H922efj+N7tlwLToJj70aTmpOHjTuGQsmPg+HZDfdBIQ1/Ej6qAFwvfEliFcL/wZuFcgYofEzjZk8EgnP78XuCj6feE0Rgcwg2h5+gWUJyyfVGbO7j8m7CwgC0lMHL6B4lhGHXQfpc3jEPmyuK20v/hmLli6dgbhLUE+sbxFwg/KHHnU/IJfOznoicf/sOF1QRu9AeEbwv3CuzD/iPAw87CqgJl3ydcKPxIMLe03e3eUnHm8mnXv4TrBa5djiOfjbJXFt4kLCnAP3lOFW4SzIfbz3nZVpgukPcR4RcCZZwv3CZwDzLt90KB8/1TAavrbTxNGbTh+cLHhWOF84T3CicJXxAoe39hcwHxpo8HC9TPfYlRNmmfd0Jz4bavIN8Gws4CxjnAOA5zfu5z7KImmF1mSc4OnP/18lwi/FOgLPpTG9f4usKVxem2ko9zjo6cKPxROFog76XCesJRwn7Cu4X1hVkC9nRhdcH3UyduyYdRTt0m4gsKcEibHhYuFjYWSHNdcl6XELh+7xBeKphb+kOZ1wpYu254gXP44JPFpgJGve28AztGuqEwLjZsM+GvAo3k5qHBGPvHtNKBUufvxhfsRmrG16qmjLSfnCyMi4ILwDcP4VD4k/JMFzC3q0k9fjvS9j2+pOGdU/eLOXMu5EOEdYTnCu8QuF6OF3wNOf+H5UMw6Ts33OsEbpYDBXyXCQirjWvtLuEsgeuQ84Io/EqgTszcPElxxPVO4W3ChgLHI2zknyFgbtNbFb9B+KiAMND+jwk3CbsKmMtGDM4UPik8T1hF4EY9XaDdawqY276v4tykz8QpczlNas4DCNE/TaAs2xKK+H5brTivU0g97ypp92Gw826/822n4/Yux66okAfXVYLzKTrQ9hsV/lngoYj5vDWpZmsfQvkbgXOCuS7i7u8MxR8RvohTxn2APUeAz6eSKLaTQvrINYCtKpAGXFe2bRTBt3Vx1PXiqvuESHLfYfa/T/F9BzxzxJdrAOMawl4uUAcPDcx1rKQ4/TkUp8z9bFLN1nk/oSQPgOXKzv/yjpIecUBHOAmPClsJJwpcNLMEyPmZQF3sn2zGScG4UHlacgFxwcKJ9ynatXE8wP5W4Audcr2PJ/CiwtLFZ7+SgxoXCU9oxAhh4qLAhnNsk7M5nnoRwm8KtI22DGbez42/qfCg4BsBMUScjhP+KCDK9JFjPiscJFwqcNO9WXi7wPX1EQFh4CahD4wsfyiQ97WCbW1F1io4TOEtZcfxCrcVNhS4Rm17KkL+HYV9BK5b2v11AR/Xt40+3CqcJCBihNjeAueE4203K4JgIqILFCfnAUOAENm/kJDR/9rM3/Zy3iRcLnC9wduKwpLCOcINAvY5YZpgwaAezq/L3UHxlwkIJg+kvwvU4fZ8X/HHBGwLYSHhZIHjicM3/ZghnCvQdszlN6lm67a/Wsn7hcvKTtdVkrODJypGWzHnQSRPELi3uO5oL+ceO6UJBtp/tuKXCFxTvs6pH3OZTarzlmNs9IWHykuE9xTnG0oIb7W9qCQuKiHlcN1gxN2GAccgm1vkX1BYUfiDMFvliY/U6DSASBp/osANc7vAaOdqAcLdWEUnlfmCvEe9+oewssBFxAnxBa5o1/aIjnioHHWGwncLi5S064RX6tpL+JTAzcqNgzlPk5p7630Iyp+Efwucw26MvtFft9FlDlaG91Mf9kxhcYHjuXa+IRwkIMCfECjbFzV13SxsIFwjIGIPCDOFewUeYBiixDGIIwZflI8YIgzXCfcJGNfqtgL1Is7k8fniGK5XbnJsWeEo4SqB6xsjP8Z5Oln4oHCkcL7AOVlDQKC54eDXRv+pD5HDXCd8IHKcQ8x8Nak5QkX/LyhOeMPWaoKBL/KIIghuJ2nOLeXBDeHHhP0F2zqKbCfQFvIC+mB7fYl8144SrlfCS0pIvW5TcQ2UZd/WcsIPNlxN4FgeRJcKPDQwrg2M6wFz/b9X/DUDnmZDP0Zq5uypKoB67xaWEOjDXcJFAuZz+5ImOaB3RNvnr+zuGDhvfW+QcTTtH6iIEw6wnYSHBSqDqGcLmC/kJjU5t+bgE+re9qWLXIAjsfqkcEPA50lDFLRfyXedQkQPc5ua1OO3dT2P39udZzhlOQ/teqmAeNngagXhdoEHHTcFxg3vfpyuOFy8TMDYV9sLlGD/LOFpZYePJTlNqOv8jtLkf6eA1ecLQVhRcJvfpjh5Dxewum7Hj5C/Lm+fkkaMdxTWEZYSMNq32EBszubXiv58TnJ23ZVrLh99c/++pjh1v7hkpk2Ah4D74LyIzC0C+R8q4aMK4Q9zf8zHivLxEPqJYHOeY+WgnJeWHT7G+Qidd4bivxOeg1Nmf5OakyYfZX6p7Gjncz/g7y7hVmHhKi/73Q4f+0b5KPP1JZ/3l+RsjkhfJ/AQ7GSIP+UwkMCsbVyvDBp+W/m8byX5HhO+LGBuU5NqtvYh8pTP9YY9sd3Qxj28LURQGNhNYISB7zcCI+cbBRrJyZ3s5pvgDnV0euksJ2UkBp/wyPG3lgIo0yMxzhn7qBNwc60oYHcJDwzEmvNSoh0D6uHC8MXRMdMwnLSFNgxldb8uUWZE6v3C6uVAysB3X0kT0D/z6HYi4Da4gCtGMc8tzlkKGS3XRjn4bQjlmiVxp50lJC+j2NsEyqbdiCtmbpvU3FvvW7e4D1e4kbC58KLio66zhP2EBwXfH9TpuKKDGm0hH8bIEm5Ic2Mz+r5esLEftI1j7KdejHLtG3BUG0bn8MyDBuM8kJd66RfCxMMF87lqUs3WdbxWydsF9AHrlLfZ8/gtZVAv7STOsXxCmSacInhEzX72Ader6KiMcrgO6DMCjfFwx/BjPHS4pvCjdxxDW7o1ayV8D5grcHq4IcdBAo3YQ/iqgO9KYQvhRmE4F5yyTQrzxXCberNs6dFoLhKfF1/MK6tMntKYL0BCRA3hfpaAOT/HD3WB0GYuOsRtNKAN7r+igxp5zMk+it8qvEq4UDhA2F+4V6A/bnsn0agfBsSdZzHFMT7F2Tfg0Iby4ISysYUERskY+WsjL23lJnG/lqwzDBF3OxCuLYUdhFMFRGx54T3CpcJygm9I6uQcuH2KDmocA+ASW03g/P9SQKQx+k8fNxJcJnUgcjwYDhMwc3C04tcOeOaUW5KzP3XcUhw+ZrrSPFxdL1xRR234fL62UvzMshNu23nLro4BeetzTSb6hl3SBAPnC074BDlN4BifP0VHbH4gLaISXi7cJVxdSvM52LCk3RY/TIp72IHP1exrEqK6NTeY4z4iHFgKuEzhG4Q/ClNJnOm+L7Y7FecC4eaYTbLi3ZrL+6kOfEjgZn6B8AcBbimbkJuakcTaAvbjJhjywkSsuLheIuwiUF63FzMisKhwjvAtwWUqOk87SHs/KHxFeEeVk/5wE9IO95/r0ze4oh3N7b677F1C4ZMEj6rqg+ALQ6QQ0GcIncSX+ut6eXBgnFvM7avjiw3saeb0iW4iXCOcVICwrSzQ952Fdwl7C+btb4p3aovcA2ZeXqHU84RjBNq1voBxrWALC/Qd/27CZYLNgnKoHLcJGws8OE4UMNfRpJrtLSXxlBL+vYT7lPCSEqILNWe46RvXybrCMgLXClbz13gG3zrvpspyn3BVyWqBdtrXz67azyegIwXqH635+mLghfD/QOCexG8+LdCXy4e5zU1q+FvuJ+z+Jui+A5wECMf2EyzOP1T81cJUFGd1e/YJuUdxTpxvNJ9c8nRjPvG/0kHnlQPfXkLElAvPYvM2xRGkawUuHmy4FwhlIFbcdITdwMf8S8cNZVw3tGl14QMCwrKXgHlEtqDi5KNv3ABbCDsI7otvNvJgTnv/z+Wj/dSxnIA5LyGcPkt4vkDbLxEwT3W4PJ8z2rP5QI45X05NL2kC8jkv6RlsZBc3wcBKlE1LHPFANPiEs4uAqFhgFB2wO7RdWlikSc5VNu2nn9TxbeEzAmKB7dwEs1dv+MH0TvlPLfueqJDjgdt8tuKci2OER4qf/Tbf55fKQZ17CNzjrxIQP+LYL5qg49Z1baO91wmzBHh22YoOaZy3bQWu7eNL7qcp3FrgIXtD8cEvD9yNhe8KvTDazrWLcU7oB3VuIlwv3ChgtLkbM0/+9H1nObg+H0OWR4NsByniE/49xRctO7gQp6KZYMKjhbUKCTVn3fLiY9fVgQgpfH9eYISEcbG8T/B5eBNOGTfjcMxtHk7eofIMVZbbtLEKor1XVAU+qcSfW/ZxE2PbCQcOxJrNNxRwLDdE2+AC+7RAno+QKOa6SXJuuLExzhE32O2Cr1vyOv9Wih8vYJyLnwvceL6JOMbH0SbqRazclgsUP1nA4AfBB9hpAqKH2beX4g8LKwqYz38df44S1HO+sJSwt8C9SL3fF7gPVxAQ0A8LGHW3DZ/7SjhYnvq4nZXg+qNOHlwII2JFOzD3u0nNScPR5cIbyw7z63wO3d8ZctDHQ71D4WeL70MKqecLwtkCD6NXCth04RQBMccoz2VSN2W+XsDabaj7z4OETz42l0EeBkF3CT6eOnkYUPZRAmYefNxK8nHdfJmdMvubVLN1eQco+ZCwTNnpskpy8KAu9EvKRoMAF9lCAuZKmtTU2nLyfJI5ES8v3a95GwkjPkG76mBzfrPi3xF+Vfk+rThWt6PxzHtL+bRxNHAb51WT8zBC5MamLwigDVHhpvuZwD5GufsJbxG4vl4k/EZg30eE1QVfxIrOvikQOwYM5NtGqI3jDisOt4eHAHnPEPygIMvaAhwT2rjR7hIuFhBC25MVoc47hRl2KuR4yt6+8hF9oXC7gMhhrncTxcm/BU7ZE5tg9tbX15vkOUI4UvhQ2bu8wmMKjlK4Q/ET+LjKNWTUxyypnDsK01tHzFSatppP8vsYZ3X76SfXKlNPmLlvUnO2XIMYHFL2l0gUW0XhqQLXyFeEtwvYRwXOx+eEE4StBcxtcZlvlI8yX89OmdvWpObkJ32dUAs0ZTn/CxS/UuDB+ynhcOHHAmXvLGDO67pXku8xYV4CTR3Y+QLl2+x3umPoCtn5dYHGABppsus8ck9JMxeIpcVhtLxwgnyStlT8EoFRn88BF9JbBJvzOj2eQvODuCJoCPXBwj7CMcKGwrLC1cLvhH0F+kNIXj5C/l5g36+FPQTMfXb53BicA/JxU39GoPxPChZD8vq4lynOCPQnAu1BGI4XNhAw8vpmo31HC+cJhwhfFOgLvmUEzO04RXHyHCB8VdhLYAR6rvA/AkYbnB/RnyWQH3OdTWruLf1APNuGb4HK6T5WriGj9TE8CLjWvlKOcps4Rw8K8IHZ36Sarfv1NSV5mGCd8jV75uybIcejAtxi9T20jtIrDXjnbJ6h6HrC4sXlekm6vm0Vpx8W8LpM8tV95p6qRdJlkA8j/RJhE+EpAlMvlE27Med3SHsfEQ5lp8z+JjXn/C8mx93Cp8qOdj7nnyt0R+j0CQINAVyQ7pTzyDWlzTx8WCy8rTBh32iIgWdzzXlA4DYQ1hIYvdmcx+nxGNZtXFUN5KHzcoEL3baIIqs5oZB9SwtcwMbTSlzBXAY/NvJsLlDHs+xU6Dy0xXF2c5P/t7CRsJCA1fvrG2aG9vHRmrLph63Os6KdCtcVXi3MFJYQsJoLH8cACPGz1Xnsc17StM/9qPOSp06Td7jm4yiD0SQPjedVBx+oOBpA37G6PY1nDm+cOx6mnGNsXveDy4FPyreo08f6PCg5kO7kdxnkwVzfdopTJkKNLdAEs7fuM46bBB7utS2vxHcFPzy9b31FKJcBAEY5LsttWUU+8vCQxuxvUnPa+Ao5/imsXXa08zn/7NCdW1CeMwQqAYcLtiELccYpEJqv3dXX/y39tW8suj8Y1/h9UYxFPb0uY7B+dLrh2jfmcNrGMZ3qgKNO5XXKSz2d/BzfievByqacTtYu22luTkamG5aDBrt+aEe7L25D21+K6ipwGR/UUScLPGBmCkcI15a4go4c4Xe7+aRwheDyHJKnbeZgBe1AIJnrxnwM/SOP87EPs8/5Gm+zdV4eJncJPLAxt69JzX1Oz5HzrLLD5/rTSqN9lwn1sdco/WeBwQDm+ur4M5X4rbAPTlm7nT7mW9p3wUCOpj2uu7jmDvyEYTTDk8PifFCVzQVXrikd9YnbUSzsW5gYa458kVIXZbdPdql23Ad1P+hLfTHSJ/pmHyG+Nrxfuzoa+SkbEJ+XURZ1mtexKJs6XU5ddqe2kM95T1WcARHGcfPD3Bbq3kpg5IhI7SIwFYPNq23u42nKx4gbg9vhGMfyKaP+dDic4+aVBz17imBdm1dePqW1+0gfbhemlwMXUni88CeBeWlsMD7m1R9z8iwdf68wk4Jk9jep1tadoEMXChbn/at8gzWmyjLloiaVea7PlN77Qp1yZKTDXTPge4o51ZsFTyH4fuy6wFEeUIt0uyi3te0n7X0eOQ4lYJ3KGC8+37/MtfMF5aeEjwnfFI4TlhMw97lJDW9b88uI/SvlMNfZsRRfDAzZLxUszntVuUfSmOrwSRu1QHNjHVx6OU+yJy0T6dhIGfA1xKj1cqHTR+eRlj2S4xAR7neuY0D7hrqm3Yf3Ke/Fgq0WJPsGC6mjm/yDlWM/ZQ23TPLVfXQcbeTLQeaKVxVs7q/TncJOdVtH36MDfii4HNf3uHIsztO055eCxXnPKuegB1d5pmrUBG8mAg4pJIzlRTZVeZ1q/faNu4s6frLgj9sT4Vqq23iR2v6BcvJ8b5TkhAs66R599bnqtkMujy+amfMeciTuivi28joBcb5f+B8Bo0C+LHTB+GJzM+CL8GVys1QLqy/YxpNtGJg3A1wzvm5YUeKb1755Hz1/97qNhIw2lyrNsX/+tm50tdMHdNIYiz69WOUxpYVZP5pUtbXosmTkHgFx/o9wg/AGYRmhNhpIYT6u3jeV4yZ4E5HwxULEWJzEqczpVO071019f03k62git72X11/NiwfIj6uvvgiY2rhJeEDAzzzLt4QrhKOF1wgshEe8HxUeE8gXsRYJldXEV+5Ew8CwGWCQxP3lG5f0RDPazr0wEdveD67hBf0EaOo8rRaVtZSTdbw/EVg4TUHG9YozOtxUWESoDaH2San9UyXuEfQW6jDf+GI1r40n2zAQBsLACBhoiwnKzgL1fYSfCxZph1fJt7/wIgFhro30VBNrC/Rr1ffPFjLgMBYGwkAYGBMGEGmE1WLjQlmYzYQ263uvFizShI8IlwofEdYW2kZZbQFv55kMaXPGF6v7lw5NhX5PhnOXPoSBCccAYt1JXFn2w8f4wwS+SKzF+iGlzxfeJTCHXZvLY1TZHq3X+SZq3AK9mzrw0dKJCPREPZtpdxiYQAwgqohNW3D40pAXzHxNuE2oxfo+pc8U3iqsINRWi3Xtn8hxCzTrxnlAYfY1qWzDQBgIAz1mALFGeNrzq6zn4+P9qcLdQi3Ws5Q+SdhWmKzL9vzw2ld93F7AItAND9mGgTAwHxjwyLo9ZTFdbdlFYATNSLoW69uU/qrAz1kZgdc2mPjXecZr3Bwcogb6PQoW7fHa5rQrDISBKcAA4mRxtVC526spwu/NmZv+u1CLNa/hY9neZkKnZXuMQNvlyTXurG7j19U6Vr9gEeiGh2zDQBgYJwwgVghTJ3F6nvwfFn4i8GOXWqyvVvrTwobCAkJtLq8Wwnr//I7zcMIWFo4XVhQw+5tUtmEgDISBccSAxbo9F4vg8tPyfYX6xUwINr+g+pnwcWEdoS1ylMXx40msaQ82XThB8Atu2m0nTywMhIEwMO4YQFAtrnXjnqzExsLnBb+oySNrfsl4kbCH8Gyhtrq8+S3WFugN1MCjqkbO73ZVTUk0DISBMDA8BhhZImoWNh+1mCJbCF8WbhQs1IQPCucK7xBmCG1D/OfXiNX9eKPawDQNFnFueMg2DISBCcxAPRKuu/FUJbYWjhXuEGqx5q17pwk7CrzkqTZEut9i7QcDv6Z8W2mMRbtuW+JhIAyEgQnLgMW1PfpcTj1ibfE3hXuFWqxnKX288AYBUa+N8hBKC2i9b6zidVv5deWmpWAeErEwEAbCwKRjANGzWLfFdSXt21U4W2ivsb5JPuaAXyU8RagNoUY0a0Gt94807vKYnjlRmF4Kor5YGAgDYWDSM2BxbXeULw75AvEHwr+EemT9G6X54nFjgS8ia6M8YHGt93UbtxCzhPA4wWU67La85A8DYSAMTEgGEL3BxBqB3Ev4idBeY82rUT8lsMa6PfVAeWCkgury+Jk7f0+PUV4sDISBMDBlGRhMrPmRC0LMaoorhXpUzatREXC+zEPQ24bYdivWFmPEmXlyzKLdpLINA2EgDExhBizWFktTwdTGywSmOvg3mFqsmRK5UGCKZHWhbRbrtr9Oe9RN3hMFplywdjsab7ZhIAyEgSnOAKLZSVz50pAvD/kSkS8Ta7Hmy8bvCLsJKwm1DfZlJXksxGspfpzgkbOFW65YGAgDYSAMdGJgMHF9ujJvIzDqnSXUYs0a628I2wks76sN4UWUvbLEAo2w89dgmPc1qWzDQBgIA2FgngwgrIOJNT904Qcv/PClvcb6DvmOFfjBzNJCbYizR8yHK7552WnRrvMmHgbCQBgIA8NkwGLdzj5Djt0FflLOT8vrkfUNSvNDFH6K7pchKTrwBwSnK3waCVlG0A0P2YaBMBAGRsWApyw8Eq4LW0MJvkC8WGivsb5OvkOE5wq7Cp7eUHRgCoRRdOahYSMWBsJAGBgDBgYTa0bE6wq8/pTXoP5H8Mj6YcX/KhwvsGxvAaE2hD9iXTOSeBgIA2FglAxYrNvzyQuq3I2EA4VrBAs1IcJ9ifC/AiPrtlFWxLrNStJhIAyEgVEwYLFuT4MsojJfLhwq/E6oxfrvSp8vvFtYTaiN8igrc9U1K4mHgTAQBkbJAKLaSVxZY/0a4WvC7UIt1qyx/raws7CCUJvFP2Jds5J4GAgDYWCUDFis29Mgy6jcbYWThD8ItVj/UelTBN7bsaxQm8uLWNesJB4GwkAYGCUDFldGxLVNV2IX4UyBLxNrsb5VaUbcWwlLCrV5vjpiXbOSeBgIA2FgFAx4yqLTl4EzVC5rrM8THhJqsWaNNXPZmwvMbddGWUyrtMW/zpN4GAgDYSAMdMGAxRpxbRvv7mC1x48ElurVYs3qEFaJvFhYUKiNsjqJf50n8TAQBsJAGOiCAYs14lobUxjrC/sKvxRqoSb+c4H11+sI7RE0ZUWsRUIsDISBMDBWDFis2yPrhVTBS4XPCtcKtVgzyv6hsKewptA2j6zb/qTDQBgIA2FghAwg1p3EdTH5XyHwEqYbhVqsH1D6XOHtwipCbS6PkXl7xF3nSzwMhIEwEAa6YABR9bRFfdhSSrDG+uvC7UIt1n9R+gzhLcLyQm21WNf+xMNAGAgDYWAUDCDWjKwJa3uGEm8WThX+JNRizXutjxe2EfxmPUUHDOHvVF7ZnSAMhIEwEAZGwoBH1u0pixVV2FsF/gnmfqEW61uV/orwaoFfOdY2mPjXeRIPA2EgDISBLhhAoC2ubbFeXfveK3xf4D0gtVj/RulDhE2F9hprz3+3y1PWWBgIA2EgDIyEAQSVaQvQtrXl2Eu4VKhfjYpoXyV8SthAQJxrc3kR65qVxMNAGAgDo2DAYt0WXNIvFD4pXC7Uo2qE+6fC3sILhLYocyyC3fbLFQsDYSAMhIGRMICgWlzr45+sxCbCwQJTHrVY/1PpC4X3CUyV1ObymFqJWNfMJB4GwkAYGAUDiKqnLepiFlfilcLhwk1CLdassf6u8A5hZaFtiD/lxsJAGAgDYWCMGEBUO42sWY73euF44U6hFmuW8X1T2F6YJtSG8Eesa0YSDwNhIAyMAQMeWbenLBDhHYTThD8LtVjfpfRxAmL+VKE2i39G1jUriYeBMBAGRsEAAj2YuK6sffyU/GyhvcaaaZEjhC0Fpktq88i6Lf51nsTDQBgIA2GgSwYsru3D1pDj/cLFwsNCPbL+tdIHCTOFJwm1UR6IWNesJB4GwkAYGAUDCOpgYv187WONNUv0HhVqsb5C6f2FFwnMT9fm+e+Idc1K4mEgDISBUTAwmFjzRwIbCQcIVwu1UP9b6UsE/pDguULbItZtRpIOA2EgDIySAearPW1RF7WwEpsI/Jz8t0It1v9QmjXW7xXaa6zl6riyBH8sDISBMBAGRsgAI2uPhOsieDHTVsJXhFuEWqz/qvRZwluF6UJtiD/lEcbCQBgIA2FgjBiwuLbnl5+u8rcVThTuFmqxZo31KcL/CMsKtXlaJWJds5J4GAgDYWAUDCCsFuu2uPJnAjsJpwv3CrVY3670McLrhKWF2phSYWTdFv86T+JhIAyEgTDQJQMW1/Zhq8rxLuE8of1q1N/Ld6iwmbCoUBvlgbb413kSDwNhIAyEgS4Y8JQFI+G2PUeODwqd1lhfJ//nhJnCQkJtFuuMrGtWEg8DYSAMjIKBwcQawV1P2Ff4hVBPgTym9M+FfYR1hfYI2l9WRqxFTiwMhIEwMBYMWKwR59pYY/0S4UDhV0It1o8o/SPhQ8KaQtsysm4zknQYCANhYJQMINaMhNvTIIvJt7nAvHR7jfWD8jGPzXw289q1ubz2aLvOk3gYCANhIAx0yQCiilC3xXUp+V4rHC3cLtQja9ZYf1vYSWDFSG0eqbfLq/MkHgbCQBgIA10yYLFuT4Mso3LeJJwstNdYkz6p7CdfbS4vYl2zkngYCANhYJQMWFwZEde2ohK7CvxK8T6hHlnfojS/any1wK8ca/N8dcS6ZiXxMBAGwsAoGPCUBQLbFuvV5GNO+gLhIaEW698p7TXWiyheG2UxrdIur86TeBgIA2EgDHTBgMUacW3b8+T4sHCJwBv2arG+SukDBN7It6BQG2V1Ev86T+JhIAyEgTDQBQMWa8S1NtLrC58QLhdqoWaN9c+EvYV1hLZxbMS6zUrSYSAMhIFRMGCxbo+s+deXmcJBQnuN9b/ku1j4gPAcoW0eWbf9SYeBMBAGwsAIGUCsEdf2l4GsseZ/FY8QbhbqkfUDSp8jvF1YSajN4k95xGNhIAyEgTAwBgwgqp62qItbWgnWWB8j3CHUYv1npU8XdhKeKdQ2mPjXeRIPA2EgDISBLhlArDuNrKfJv71wmnCPUIv1nUofL2wtPE2oDeHvVF6dJ/EwEAbCQBjoggFGwR5Zt6csVtS+3YSzhb8JtVizxvoogTXWSwi1DSb+dZ7Ew0AYCANhoAsGLNaMhNti/Wz59hAuFP4h1GL9a6UPFjYRFhZqo6ysBKkZSTwMhIEwMEoGEOhO89UU+wLho8JPhf8ItVhfqfT+wosExLk2l9cW/zpPpzj5uz2mUznxhYEwEAYmHQMW67bgkkaIEeQrhFqoH1X6UgEhf77QFliORbCHsvq44eQfqrzsDwNhIAxMWgYQzE7iytTGpsIXheuFWqz52TlTI+8RniXUVpdXi3Gdh9epLlQc1D1YvvqYxMNAGAgDU5oBf7nYHtkuLla2FI4U2mus+bKRNdZvE1YSarNYUy7mcjdWnKV+zk8+71M0FgbCQBgIA/NiYLCVG0/XQdsKJwizhHpk/UelTxXeLDxDqI3yFhAs1ucqzkic9do29sfCQBgIA2GgCwYQVUa4jHRr44cuOwqMhv8i1GJ9p9LHCqyx5oczbdtIDudnZL5YyUA9FvHiShAGwkAYmNwMWGARv04C2J6O6MQGeTi207zxDPnfIXxPaK+x/r18hwuvEOo11oy2LdK/UnymYKOOWBgIA2Fg0jPQHvnS4Vqk2/vb6cEIQvQ7CSkvZ/qg8EOh/WrU6+Q7WFhb2ELgpU6PCQg1K0U+Jrj+Tg8C7Y6FgTAQBiYHAxa7zdSdQwXefLdy6Roi7f28GY/piOlln/0lOc+AvJ3EGv8LBES30xpr3mPtf42phfxi+dcQbJQdCwNhIAxMKgYsbK9Sr44TGNleKlwjeJ+/mNtBPkaxTFNgnUbGzZ55by3WLt+5+SOBlwqfE/ilYv2DGI+g8TGKph0I9y6CjXZ289DwcQnDQBgIA+OOAU9hsETum8IKpYVnKEQAPYq2QHs+mC/vsLbANt7utrSBcjqVtZP89wi0xQLteD2apl2sHMEoz/0acGQTBsJAGJiIDHgE/FY1nlErNk24X7heYERrW1gR1jffLfhLvF4J4XKqY0/hauFh4ZECRs6AUTRApD2avklxXuJkc9+cThgGwkAYmFAMWGCZ3mAeGNtRYJS6DwnZQk0w8IUd/rNKmmAspxNoy/OEI4R/CtQ1XCDgzsv8ef1gUTI2kRjIk3Uina20tZcMMG2AyLLszfbGEjmzhBbh9Uv6khIyJcEodrRG+YjrosJ6AuWeIiDYrHtm+mWRAkbx4MkCIgyYfqnvaUbeWwnvFb4vxCYYA77gJliz09ww0DMGEDimClYQbhSuFDYUMAvxiYpvL7xYuEzwMYr23GgDYswqEsS5BiKOuDtEwJcX/iHw7uq7BD8EFI2Ndwbqp+14b2vaFwb6wYAHLbylDiH0yNMijDBuINwj/EbAGPWOtdEOT7swuncdjNSZ9gD3CcM1l+Vyhntc8s1HBiLQ85H8VD0uGbCAzSitswgzfcDIerqwisBUCF8gYgjoWBvtqKdN/OCgnk7x2tduC+X0oo3tepIeYwYi0GNMaIqbNAwgxtifm2BgxEr0dSX94xJ6ZF2SPQv84KCCOt6zClNwGAgDYWC8McAcL8ZL9hHCI0nImO54u/B3Af9MAcsgp+Eh2x4wMK+PRT2oLkWGgXHPAPcEYEqAVRzvF1iDjCg/JLxFYHS9pvAXgbndTB+IhFgYCANhoJcM1AMWvgzECNcVlhRYXodQnyRgFvMmlW0YCANhIAz0jAEL9O6q4U5hm1ZNpymNQK9T/J4OaWVLMgyEgTAQBsaSAS9DY6Q8S0CId6oq2Kr49is+56+yJBoGwkAYCAO9YMCCy8+5rxAOqyp5heKsez6k8nm0XbkSDQNjy0AusrHlM6VNbAb8hR9zzjsK/BiEn1YvK5wqnCFgzteksg0DPWIgAt0jYlPshGWAe4LpDX4yPUPgDXK/FTCPsrNqo+Ej2zAQBsJA3xmwENcVZ71zzUbifWEgI+i+0JxKJiADiLTvD0bMjKpjYaCvDPx/+jHD+tZUk/cAAAAASUVORK5CYII=)\n",
        "\n",
        "Instead of computing the actual angle, we can leave the similarity in terms of $similarity = cos(\\Theta)$. Formally the [Cosine Similarity](https://en.wikipedia.org/wiki/Cosine_similarity) $s$ between two vectors $p$ and $q$ is defined as:\n",
        "\n",
        "$$s = \\frac{p \\cdot q}{||p|| ||q||}, \\textrm{ where } s \\in [-1, 1] $$ "
      ],
      "metadata": {
        "id": "vHwUAkxQruzP"
      }
    },
    {
      "cell_type": "markdown",
      "source": [
        "### 3.2 Solving Analogies with Word2Vec Vectors\n",
        "Word2Vec vectors have been shown to *sometimes* exhibit the ability to solve analogies. \n",
        "\n",
        "As an example, for the analogy \"man : king :: woman : x\", what is x?\n",
        "\n",
        "In the cell below, we show you how to use word vectors to find x. The `most_similar` function finds words that are most similar to the words in the `positive` list and most dissimilar from the words in the `negative` list. The answer to the analogy will be the word ranked most similar (largest numerical value).\n",
        "\n",
        "**Note:** Further Documentation on the `most_similar` function can be found within the __[GenSim documentation](https://radimrehurek.com/gensim/models/keyedvectors.html#gensim.models.keyedvectors.FastTextKeyedVectors.most_similar)__."
      ],
      "metadata": {
        "id": "apmRlulxswPz"
      }
    },
    {
      "cell_type": "code",
      "source": [
        "# arithmetic operations on words\n",
        "result = model.most_similar(positive=['woman' , 'king'], negative=['man'], topn=1) # (king-man) + woman --> ? \n",
        "print(result)"
      ],
      "metadata": {
        "id": "wOGoqvQcsZXH",
        "colab": {
          "base_uri": "https://localhost:8080/"
        },
        "outputId": "30c443d7-9313-418b-c031-c1e4651ab82b"
      },
      "execution_count": null,
      "outputs": [
        {
          "output_type": "stream",
          "name": "stdout",
          "text": [
            "[('queen', 0.7118192911148071)]\n"
          ]
        }
      ]
    },
    {
      "cell_type": "markdown",
      "source": [
        "**Exercise 4:**\n",
        "Find an example of analogy that holds according to these vectors (i.e. the intended word is ranked top). In your solution please state the full analogy in the form x:y :: a:b. If you believe the analogy is complicated, explain why the analogy holds in one or two sentences.\n",
        "\n",
        "**Note**: You may have to try many analogies to find one that works!"
      ],
      "metadata": {
        "id": "jMJB5_4btHlx"
      }
    },
    {
      "cell_type": "code",
      "source": [
        "# arithmetic operations on words"
      ],
      "metadata": {
        "colab": {
          "base_uri": "https://localhost:8080/"
        },
        "id": "x6TBLgurq26f",
        "outputId": "76a62ff2-854d-4ea6-b9ce-b92fa65f3859"
      },
      "execution_count": null,
      "outputs": [
        {
          "output_type": "stream",
          "name": "stdout",
          "text": [
            "[('burger', 0.48342666029930115), ('burrito', 0.459564208984375), ('hotdog', 0.44356054067611694), ('Hardee_Thickburger', 0.4431432783603668), ('australia', 0.4307138919830322)]\n"
          ]
        }
      ]
    },
    {
      "cell_type": "markdown",
      "source": [
        "**Bias in Word vectors**"
      ],
      "metadata": {
        "id": "dZD3m8qztNqw"
      }
    },
    {
      "cell_type": "code",
      "source": [
        "# Run this cell\n",
        "# Here `positive` indicates the list of words to be similar to and `negative` indicates the list of words to be\n",
        "# most dissimilar from.\n",
        "pprint.pprint(model.most_similar(positive=['woman', 'boss'], negative=['man']))\n",
        "print()\n",
        "pprint.pprint(model.most_similar(positive=['man', 'boss'], negative=['woman']))"
      ],
      "metadata": {
        "id": "DogzBhoStMiA",
        "colab": {
          "base_uri": "https://localhost:8080/"
        },
        "outputId": "877ac26c-0793-4213-996c-231f073b9edb"
      },
      "execution_count": null,
      "outputs": [
        {
          "output_type": "stream",
          "name": "stdout",
          "text": [
            "[('bosses', 0.5522644519805908),\n",
            " ('manageress', 0.49151360988616943),\n",
            " ('exec', 0.459408164024353),\n",
            " ('Manageress', 0.45598435401916504),\n",
            " ('receptionist', 0.4474116861820221),\n",
            " ('Jane_Danson', 0.44480547308921814),\n",
            " ('Fiz_Jennie_McAlpine', 0.44275766611099243),\n",
            " ('Coronation_Street_actress', 0.44275569915771484),\n",
            " ('supremo', 0.4409852921962738),\n",
            " ('coworker', 0.4398624897003174)]\n",
            "\n",
            "[('supremo', 0.6097397804260254),\n",
            " ('MOTHERWELL_boss', 0.5489562153816223),\n",
            " ('CARETAKER_boss', 0.5375303626060486),\n",
            " ('Bully_Wee_boss', 0.5333974361419678),\n",
            " ('YEOVIL_Town_boss', 0.5321705341339111),\n",
            " ('head_honcho', 0.5281980037689209),\n",
            " ('manager_Stan_Ternent', 0.525971531867981),\n",
            " ('Viv_Busby', 0.5256163477897644),\n",
            " ('striker_Gabby_Agbonlahor', 0.5250812768936157),\n",
            " ('BARNSLEY_boss', 0.5238943099975586)]\n"
          ]
        }
      ]
    },
    {
      "cell_type": "markdown",
      "source": [
        "**Exercise 5:**\n",
        "Find another bias example. "
      ],
      "metadata": {
        "id": "pIodSgyj1_Rc"
      }
    },
    {
      "cell_type": "code",
      "source": [
        "# ------------------ FIND ANOTHER BIAS EXAMPLE--------------------------------\n",
        "# Write your bias exploration code here.\n",
        "\n",
        "pprint.pprint(wv_from_bin.most_similar(positive=[], negative=[]))\n",
        "print()\n",
        "pprint.pprint(wv_from_bin.most_similar(positive=[,], negative=[]))\n",
        "\n",
        "# ------------------"
      ],
      "metadata": {
        "id": "FU6GX_86tHG9"
      },
      "execution_count": null,
      "outputs": []
    },
    {
      "cell_type": "markdown",
      "source": [
        "### 3.1 Train Word2Vec model from scratch"
      ],
      "metadata": {
        "id": "4cilJySJqmJd"
      }
    },
    {
      "cell_type": "code",
      "source": [
        "from gensim.models import Word2Vec\n",
        "# define training data\n",
        "sentences = [['this' , 'is' , 'the' , 'first' , 'sentence' , 'for' , 'word2vec'],\n",
        "['this' , 'is' , 'the' , 'second' , 'sentence' ],\n",
        "['yet' , 'another' , 'sentence' ],\n",
        "['one' , 'more' , 'sentence' ],\n",
        "['and' , 'the' , 'final' , 'sentence']]\n",
        "# train model\n",
        "model = Word2Vec(sentences, min_count=1)\n",
        "# summarize the loaded model\n",
        "print(model)\n",
        "# summarize vocabulary\n",
        "words = list(model.wv.vocab)\n",
        "print(words)\n",
        "# access vector for one word\n",
        "print(model['sentence'])\n",
        "# save model\n",
        "model.save('model.bin')\n",
        "# load model\n",
        "new_model = Word2Vec.load('model.bin')\n",
        "print(new_model)"
      ],
      "metadata": {
        "id": "in8GSveQoO52",
        "colab": {
          "base_uri": "https://localhost:8080/"
        },
        "outputId": "09424193-9198-43e8-fcc8-54a976cf4b16"
      },
      "execution_count": null,
      "outputs": [
        {
          "output_type": "stream",
          "name": "stdout",
          "text": [
            "Word2Vec(vocab=14, size=100, alpha=0.025)\n",
            "['this', 'is', 'the', 'first', 'sentence', 'for', 'word2vec', 'second', 'yet', 'another', 'one', 'more', 'and', 'final']\n",
            "[ 4.5512969e-04  4.6015880e-03 -6.6322915e-04  5.6619610e-04\n",
            " -4.6938690e-03  5.1438529e-04 -2.3533382e-04  1.6280072e-03\n",
            " -4.2614625e-03 -4.9801846e-03  2.7803932e-03  4.6944343e-03\n",
            " -7.2802452e-04  1.7691796e-03  3.1330260e-03 -1.1131500e-04\n",
            "  1.6410202e-03  1.0873280e-03  3.1210950e-03 -4.3445194e-04\n",
            " -2.6642016e-04  3.6471868e-03 -3.1944846e-03 -3.5989750e-03\n",
            "  4.3864441e-03 -2.9535773e-03 -3.5718724e-04 -4.6372786e-03\n",
            " -3.7769717e-03 -3.4882552e-03 -1.3866510e-03 -1.4716510e-03\n",
            " -3.1390635e-03  2.0810138e-03 -4.8023514e-03  7.8516029e-04\n",
            "  1.2181014e-03 -4.1352469e-03 -4.2219013e-03  1.3767955e-03\n",
            "  3.9466796e-03 -1.3571770e-03  5.6087022e-04  1.4230291e-03\n",
            "  2.1312805e-04 -3.8270121e-03 -4.1452274e-03  4.5890566e-03\n",
            " -1.6273352e-03 -2.6767745e-03  3.1582729e-03 -1.6409582e-03\n",
            " -3.8828919e-04  4.9563381e-04  1.2345765e-03  4.8050326e-03\n",
            "  6.6977949e-04  3.4069687e-03 -8.1674848e-04 -3.8487231e-03\n",
            "  1.1078124e-04 -4.1835136e-03 -8.7456231e-04  4.6841991e-03\n",
            "  3.0803934e-03 -7.3738594e-04  3.3882642e-03  1.3172600e-03\n",
            " -1.9695691e-03  3.0769554e-03  3.5911924e-03  2.3401973e-03\n",
            " -1.5635070e-03 -3.2713544e-03 -4.3954607e-03  2.3666455e-03\n",
            " -8.1073167e-04  7.7497745e-05 -3.1853125e-03  1.8244667e-03\n",
            "  4.4134394e-03  3.2491272e-04 -2.8719374e-03 -2.9275415e-03\n",
            "  2.5889156e-03  4.8461565e-04 -2.0384035e-04  3.5373557e-03\n",
            "  3.4380332e-03  8.4099860e-04  3.9584953e-03 -2.1224345e-04\n",
            "  4.7097220e-03 -2.4302383e-03  2.8309291e-03 -3.1509541e-03\n",
            "  4.8250393e-03 -3.1412628e-03  3.9397362e-03  3.9422722e-03]\n",
            "Word2Vec(vocab=14, size=100, alpha=0.025)\n"
          ]
        },
        {
          "output_type": "stream",
          "name": "stderr",
          "text": [
            "/usr/local/lib/python3.7/dist-packages/ipykernel_launcher.py:16: DeprecationWarning: Call to deprecated `__getitem__` (Method will be removed in 4.0.0, use self.wv.__getitem__() instead).\n",
            "  app.launch_new_instance()\n"
          ]
        }
      ]
    },
    {
      "cell_type": "markdown",
      "source": [
        "**Exercise 6**:  \n",
        "\n",
        "Create a function `plot_word_vectors` that: \n",
        "* do a 2d PCA on each word vectors using https://scikit-learn.org/stable/modules/generated/sklearn.decomposition.PCA.html\n",
        "* Plot the 2D PCA representation of the word vectors using `plt.annotate`"
      ],
      "metadata": {
        "id": "x6fGKKKDXrJH"
      }
    },
    {
      "cell_type": "code",
      "source": [
        "# retrieve word vectors\n",
        "word_vectors = model[model.wv.vocab]"
      ],
      "metadata": {
        "id": "I2BnVVIhpLgx",
        "colab": {
          "base_uri": "https://localhost:8080/"
        },
        "outputId": "4b247a92-266c-4b29-f125-eb198d457ce6"
      },
      "execution_count": null,
      "outputs": [
        {
          "output_type": "stream",
          "name": "stderr",
          "text": [
            "/usr/local/lib/python3.7/dist-packages/ipykernel_launcher.py:2: DeprecationWarning: Call to deprecated `__getitem__` (Method will be removed in 4.0.0, use self.wv.__getitem__() instead).\n",
            "  \n"
          ]
        }
      ]
    },
    {
      "cell_type": "code",
      "source": [
        "def plot_word_vectors(word_vectors):\n"
      ],
      "metadata": {
        "id": "TdPCSxKa3Wna"
      },
      "execution_count": null,
      "outputs": []
    },
    {
      "cell_type": "code",
      "source": [
        "plot_word_vectors(word_vectors)"
      ],
      "metadata": {
        "colab": {
          "base_uri": "https://localhost:8080/",
          "height": 269
        },
        "id": "eH1KWUgkY6c5",
        "outputId": "5ce9c529-28c8-4b18-e461-43eb94b17701"
      },
      "execution_count": null,
      "outputs": [
        {
          "output_type": "display_data",
          "data": {
            "image/png": "[encoded data removed]",
            "text/plain": [
              "<Figure size 432x288 with 1 Axes>"
            ]
          },
          "metadata": {
            "needs_background": "light"
          }
        }
      ]
    },
    {
      "cell_type": "markdown",
      "source": [
        "## 4. Using Embedding layer in tensorflow.keras\n",
        "\n"
      ],
      "metadata": {
        "id": "nApk5aQ89WuG"
      }
    },
    {
      "cell_type": "code",
      "source": [
        "# imports\n",
        "from tensorflow.keras.preprocessing.text import one_hot, Tokenizer\n",
        "from tensorflow.keras.preprocessing.sequence import pad_sequences\n",
        "from tensorflow.keras.models import Sequential\n",
        "from tensorflow.keras.layers import Dense\n",
        "from tensorflow.keras.layers import Flatten\n",
        "from tensorflow.keras.layers import Embedding"
      ],
      "metadata": {
        "id": "v--i2zoZ9bbd"
      },
      "execution_count": null,
      "outputs": []
    },
    {
      "cell_type": "markdown",
      "source": [
        "### 4.1 Train an Embedding layer from scratch."
      ],
      "metadata": {
        "id": "hl5tyYSfIa7k"
      }
    },
    {
      "cell_type": "code",
      "source": [
        "# define documents\n",
        "docs = ['Well done!',\n",
        "'Good work',\n",
        "'Great effort',\n",
        "'nice work',\n",
        "'Excellent!',\n",
        "'Weak',\n",
        "'Poor effort!',\n",
        "'not good',\n",
        "'poor work',\n",
        "'Could have done better.' ]\n",
        "# define class labels\n",
        "labels = np.array([1,1,1,1,1,0,0,0,0,0])"
      ],
      "metadata": {
        "id": "_Pwt6TcE9i-1"
      },
      "execution_count": null,
      "outputs": []
    },
    {
      "cell_type": "code",
      "source": [
        "# integer encode the documents\n"
      ],
      "metadata": {
        "id": "Tol_Sy5P1nma",
        "colab": {
          "base_uri": "https://localhost:8080/"
        },
        "outputId": "c130afcc-985c-4057-d68e-77b84bd6bf97"
      },
      "execution_count": null,
      "outputs": [
        {
          "output_type": "stream",
          "name": "stdout",
          "text": [
            "[[7, 16], [20, 22], [12, 22], [42, 22], [30], [18], [9, 22], [9, 20], [9, 22], [29, 30, 16, 20]]\n",
            "[[ 7 16  0  0]\n",
            " [20 22  0  0]\n",
            " [12 22  0  0]\n",
            " [42 22  0  0]\n",
            " [30  0  0  0]\n",
            " [18  0  0  0]\n",
            " [ 9 22  0  0]\n",
            " [ 9 20  0  0]\n",
            " [ 9 22  0  0]\n",
            " [29 30 16 20]]\n"
          ]
        }
      ]
    },
    {
      "cell_type": "code",
      "source": [
        "# define the model\n",
        "model = Sequential()\n",
        "model.add(Embedding(vocab_size, 32, input_length=max_length))\n",
        "model.add(Flatten())\n",
        "model.add(Dense(1, activation= 'sigmoid'))\n",
        "# compile the model\n",
        "model.compile(optimizer= 'adam' , loss= 'binary_crossentropy' , metrics=['acc'])\n",
        "# summarize the model\n",
        "model.summary()"
      ],
      "metadata": {
        "id": "ryBrJuP-168q",
        "colab": {
          "base_uri": "https://localhost:8080/"
        },
        "outputId": "092c7424-3d51-4745-93c5-fd42680301aa"
      },
      "execution_count": null,
      "outputs": [
        {
          "output_type": "stream",
          "name": "stdout",
          "text": [
            "Model: \"sequential\"\n",
            "_________________________________________________________________\n",
            " Layer (type)                Output Shape              Param #   \n",
            "=================================================================\n",
            " embedding (Embedding)       (None, 4, 32)             1600      \n",
            "                                                                 \n",
            " flatten (Flatten)           (None, 128)               0         \n",
            "                                                                 \n",
            " dense (Dense)               (None, 1)                 129       \n",
            "                                                                 \n",
            "=================================================================\n",
            "Total params: 1,729\n",
            "Trainable params: 1,729\n",
            "Non-trainable params: 0\n",
            "_________________________________________________________________\n"
          ]
        }
      ]
    },
    {
      "cell_type": "code",
      "source": [
        "# fit the model\n",
        "model.fit(padded_docs, labels, epochs=50, verbose=0)\n",
        "# evaluate the model\n",
        "loss, accuracy = model.evaluate(padded_docs, labels, verbose=0)\n",
        "print('Accuracy: %f ' % (accuracy*100))"
      ],
      "metadata": {
        "id": "IzF22hxo1_3d",
        "colab": {
          "base_uri": "https://localhost:8080/"
        },
        "outputId": "7e95708d-dbf4-431f-ff56-71e99269c536"
      },
      "execution_count": null,
      "outputs": [
        {
          "output_type": "stream",
          "name": "stdout",
          "text": [
            "Accuracy: 80.000001 \n"
          ]
        }
      ]
    },
    {
      "cell_type": "markdown",
      "source": [
        "### 4.2 Use Glove Embeddings in a tf.keras `Embedding` layer"
      ],
      "metadata": {
        "id": "6rWkKSESI6So"
      }
    },
    {
      "cell_type": "markdown",
      "source": [
        "Load pretrained GloVe Embeddings\n",
        "\n"
      ],
      "metadata": {
        "id": "z9-8Hye-uUEd"
      }
    },
    {
      "cell_type": "code",
      "source": [
        "from gensim.models import KeyedVectors\n",
        "from gensim.scripts.glove2word2vec import glove2word2vec\n",
        "glove_emb = api.load(\"glove-wiki-gigaword-50\")\n",
        "print(glove_emb.word_vec(\"the\"))\n",
        "print(\"glove dimensions:\", len(glove_emb.word_vec(\"the\")))\n",
        "result = glove_emb.most_similar(positive=['woman' , 'king'], negative=['man'], topn=1)\n",
        "print(result)"
      ],
      "metadata": {
        "id": "BPEfLbWZJWK2",
        "colab": {
          "base_uri": "https://localhost:8080/"
        },
        "outputId": "efe942f2-4f13-4804-e25b-3b4a52dbf420"
      },
      "execution_count": null,
      "outputs": [
        {
          "output_type": "stream",
          "name": "stdout",
          "text": [
            "[==================================================] 100.0% 66.0/66.0MB downloaded\n",
            "[ 4.1800e-01  2.4968e-01 -4.1242e-01  1.2170e-01  3.4527e-01 -4.4457e-02\n",
            " -4.9688e-01 -1.7862e-01 -6.6023e-04 -6.5660e-01  2.7843e-01 -1.4767e-01\n",
            " -5.5677e-01  1.4658e-01 -9.5095e-03  1.1658e-02  1.0204e-01 -1.2792e-01\n",
            " -8.4430e-01 -1.2181e-01 -1.6801e-02 -3.3279e-01 -1.5520e-01 -2.3131e-01\n",
            " -1.9181e-01 -1.8823e+00 -7.6746e-01  9.9051e-02 -4.2125e-01 -1.9526e-01\n",
            "  4.0071e+00 -1.8594e-01 -5.2287e-01 -3.1681e-01  5.9213e-04  7.4449e-03\n",
            "  1.7778e-01 -1.5897e-01  1.2041e-02 -5.4223e-02 -2.9871e-01 -1.5749e-01\n",
            " -3.4758e-01 -4.5637e-02 -4.4251e-01  1.8785e-01  2.7849e-03 -1.8411e-01\n",
            " -1.1514e-01 -7.8581e-01]\n",
            "[('queen', 0.8523603677749634)]\n"
          ]
        }
      ]
    },
    {
      "cell_type": "markdown",
      "source": [
        "#### Build the vocabulary\n",
        "use `Tokenizer` module of tensorflow: https://www.tensorflow.org/api_docs/python/tf/keras/preprocessing/text/Tokenizer"
      ],
      "metadata": {
        "id": "UTDbEYhL3fd6"
      }
    },
    {
      "cell_type": "code",
      "source": [
        "# prepare tokenizer"
      ],
      "metadata": {
        "id": "WY71-jGCAof9",
        "colab": {
          "base_uri": "https://localhost:8080/"
        },
        "outputId": "6c4b4a04-6d3f-415b-f585-1084fca4120d"
      },
      "execution_count": null,
      "outputs": [
        {
          "output_type": "stream",
          "name": "stdout",
          "text": [
            "VOCAB: {'work': 1, 'done': 2, 'good': 3, 'effort': 4, 'poor': 5, 'well': 6, 'great': 7, 'nice': 8, 'excellent': 9, 'weak': 10, 'not': 11, 'could': 12, 'have': 13, 'better': 14}\n"
          ]
        }
      ]
    },
    {
      "cell_type": "markdown",
      "source": [
        "#### Text one-hot encoding + padding\n",
        "Use `one_hot` and `pad_sequences` functions of `tensorflow.keras.preprocessing`"
      ],
      "metadata": {
        "id": "GOIl6CJr3yw8"
      }
    },
    {
      "cell_type": "code",
      "source": [
        "# integer encode the documents"
      ],
      "metadata": {
        "colab": {
          "base_uri": "https://localhost:8080/"
        },
        "id": "xEbkEsyx3Yh5",
        "outputId": "da4bda78-1a3f-4903-f9a9-bb81746c228e"
      },
      "execution_count": null,
      "outputs": [
        {
          "output_type": "stream",
          "name": "stdout",
          "text": [
            "[[6, 2], [3, 1], [7, 4], [8, 1], [9], [10], [5, 4], [11, 3], [5, 1], [12, 13, 2, 14]]\n",
            "[[ 6  2  0  0]\n",
            " [ 3  1  0  0]\n",
            " [ 7  4  0  0]\n",
            " [ 8  1  0  0]\n",
            " [ 9  0  0  0]\n",
            " [10  0  0  0]\n",
            " [ 5  4  0  0]\n",
            " [11  3  0  0]\n",
            " [ 5  1  0  0]\n",
            " [12 13  2 14]]\n"
          ]
        }
      ]
    },
    {
      "cell_type": "code",
      "source": [
        "# get word embedding of a specific word\n",
        "glove_emb.word_vec(\"work\")"
      ],
      "metadata": {
        "colab": {
          "base_uri": "https://localhost:8080/"
        },
        "id": "WSZT4NLDAhhI",
        "outputId": "9950816f-ee29-46f0-e8a0-bc05c9dcf374"
      },
      "execution_count": null,
      "outputs": [
        {
          "output_type": "execute_result",
          "data": {
            "text/plain": [
              "array([ 5.1359e-01,  1.9695e-01, -5.1944e-01, -8.6218e-01,  1.5494e-02,\n",
              "        1.0973e-01, -8.0293e-01, -3.3361e-01, -1.6119e-04,  1.0189e-02,\n",
              "        4.6734e-02,  4.6751e-01, -4.7475e-01,  1.1038e-01,  3.9327e-01,\n",
              "       -4.3652e-01,  3.9984e-01,  2.7109e-01,  4.2650e-01, -6.0640e-01,\n",
              "        8.1145e-01,  4.5630e-01, -1.2726e-01, -2.2474e-01,  6.4071e-01,\n",
              "       -1.2767e+00, -7.2231e-01, -6.9590e-01,  2.8045e-02, -2.3072e-01,\n",
              "        3.7996e+00, -1.2625e-01, -4.7967e-01, -9.9972e-01, -2.1976e-01,\n",
              "        5.0565e-01,  2.5953e-02,  8.0514e-01,  1.9929e-01,  2.8796e-01,\n",
              "       -1.5915e-01, -3.0438e-01,  1.6025e-01, -1.8290e-01, -3.8563e-02,\n",
              "       -1.7619e-01,  2.7041e-02,  4.6842e-02, -6.2897e-01,  3.5726e-01],\n",
              "      dtype=float32)"
            ]
          },
          "metadata": {},
          "execution_count": 43
        }
      ]
    },
    {
      "cell_type": "markdown",
      "source": [
        "**Exercise 7:**  \n",
        "\n",
        "Implement a word embedding matrix `word_embedding_matrix` of size (vocab_size, dim_glove=50) that stores the word vector of each word in the vocab. \n",
        "> Use the `word_vec` method of glove embeddings. "
      ],
      "metadata": {
        "id": "EyhY-hN04cPv"
      }
    },
    {
      "cell_type": "code",
      "source": [
        "def word_embedding_matrix(glove_emb, vocab_size):\n",
        "  # create a weight matrix for words in training docs\n",
        "  embedding_matrix = np.zeros((vocab_size, 50))\n",
        "  ### ----------------------- YOUR CODE HERE --------------------------------------------- ###\n",
        "  return embedding_matrix"
      ],
      "metadata": {
        "id": "HSuKsdqd6bFg"
      },
      "execution_count": null,
      "outputs": []
    },
    {
      "cell_type": "code",
      "source": [
        "embedding_matrix = word_embedding_matrix(glove_emb, vocab_size)"
      ],
      "metadata": {
        "colab": {
          "base_uri": "https://localhost:8080/"
        },
        "id": "cOUCpr6X5Neo",
        "outputId": "b232e09b-198d-435d-a33d-148f1300ff50"
      },
      "execution_count": null,
      "outputs": [
        {
          "output_type": "stream",
          "name": "stdout",
          "text": [
            "work\n",
            "done\n",
            "good\n",
            "effort\n",
            "poor\n",
            "well\n",
            "great\n",
            "nice\n",
            "excellent\n",
            "weak\n",
            "not\n",
            "could\n",
            "have\n",
            "better\n",
            "<PAD>\n",
            "Null word embeddings: 1\n"
          ]
        }
      ]
    },
    {
      "cell_type": "code",
      "source": [
        "# define model\n",
        "model = Sequential()\n",
        "e = Embedding(vocab_size, 50, weights=[embedding_matrix], input_length=4, trainable=False)\n",
        "model.add(e)\n",
        "model.add(Flatten())\n",
        "model.add(Dense(1, activation= 'sigmoid' ))\n",
        "# compile the model\n",
        "model.compile(optimizer= 'adam' , loss= 'binary_crossentropy' , metrics=['acc'])\n",
        "# summarize the model\n",
        "model.summary()\n",
        "# fit the model\n",
        "model.fit(padded_docs, labels, epochs=50, verbose=0)\n",
        "# evaluate the model\n",
        "loss, accuracy = model.evaluate(padded_docs, labels, verbose=0)\n",
        "print('Accuracy: %f' % (accuracy*100))"
      ],
      "metadata": {
        "colab": {
          "base_uri": "https://localhost:8080/"
        },
        "id": "tymSMqV1-hcS",
        "outputId": "f0d5eebb-dc6a-4eb6-de86-6797cbcb9c1a"
      },
      "execution_count": null,
      "outputs": [
        {
          "output_type": "stream",
          "name": "stdout",
          "text": [
            "Model: \"sequential_1\"\n",
            "_________________________________________________________________\n",
            " Layer (type)                Output Shape              Param #   \n",
            "=================================================================\n",
            " embedding_1 (Embedding)     (None, 4, 50)             750       \n",
            "                                                                 \n",
            " flatten_1 (Flatten)         (None, 200)               0         \n",
            "                                                                 \n",
            " dense_1 (Dense)             (None, 1)                 201       \n",
            "                                                                 \n",
            "=================================================================\n",
            "Total params: 951\n",
            "Trainable params: 201\n",
            "Non-trainable params: 750\n",
            "_________________________________________________________________\n",
            "Accuracy: 60.000002\n"
          ]
        }
      ]
    }
  ]
}