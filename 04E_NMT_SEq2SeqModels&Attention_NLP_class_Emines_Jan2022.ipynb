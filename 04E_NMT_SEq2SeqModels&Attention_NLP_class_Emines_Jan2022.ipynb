{
  "nbformat": 4,
  "nbformat_minor": 0,
  "metadata": {
    "colab": {
      "name": "04E_NMT_SEq2SeqModels&Attention_NLP-class_Emines_Jan2022.ipynb",
      "provenance": [],
      "collapsed_sections": [],
      "include_colab_link": true
    },
    "kernelspec": {
      "name": "python3",
      "display_name": "Python 3"
    },
    "language_info": {
      "name": "python"
    }
  },
  "cells": [
    {
      "cell_type": "markdown",
      "metadata": {
        "id": "view-in-github",
        "colab_type": "text"
      },
      "source": [
        "<a href=\"https://colab.research.google.com/github/igmim-yassine/Pytorch-Tutorial/blob/master/04E_NMT_SEq2SeqModels%26Attention_NLP_class_Emines_Jan2022.ipynb\" target=\"_parent\"><img src=\"https://colab.research.google.com/assets/colab-badge.svg\" alt=\"Open In Colab\"/></a>"
      ]
    },
    {
      "cell_type": "markdown",
      "source": [
        "## Notebook Summary: Build a Machine Translation Algorithm with Seq2Seq Model and Attention mechanism\n",
        "In this notebook, you will learn: \n",
        "* Preprocess a french-english sentences dataset for machine translation\n",
        "> Dataset available here: https://drive.google.com/drive/folders/1npjvI_9qFKuamCLwlG8fG9lzZZCrsowT?usp=sharing\n",
        "* Build an sequence to sequence model with Bahdanau attention on the dataset\n",
        "> This is the implementation of this paper: \n",
        "https://arxiv.org/pdf/1409.0473.pdf\n",
        "* Train the Machine Translation algorithm \n",
        "* Translate French to English sentences using the trained Seq2Seq Model. \n",
        "\n"
      ],
      "metadata": {
        "id": "dRmDVLG4xkKS"
      }
    },
    {
      "cell_type": "code",
      "source": [
        "import tensorflow as tf\n",
        "import re\n",
        "import string\n",
        "from pickle import dump\n",
        "from unicodedata import normalize\n",
        "import numpy as np\n",
        "from tensorflow.keras.preprocessing.text import Tokenizer\n",
        "from tensorflow.keras.preprocessing.sequence import pad_sequences\n",
        "import matplotlib.pyplot as plt\n",
        "import collections"
      ],
      "metadata": {
        "id": "x934D2H1x8ty"
      },
      "execution_count": null,
      "outputs": []
    },
    {
      "cell_type": "markdown",
      "source": [
        "### Preparing the dataset\n",
        "* unicode normalization: https://docs.python.org/3/library/unicodedata.html\n",
        "* There is punctuation to remove.\n",
        "* The text contains uppercase and lowercase.\n",
        "* There are special characters => use `string.printable` to remove it.\n",
        "* There are duplicate phrases in English with different translations in French.\n",
        "* The file is ordered by sentence length with very long sentences toward the end of the file."
      ],
      "metadata": {
        "id": "dLYP7JkXy-a2"
      }
    },
    {
      "cell_type": "code",
      "execution_count": null,
      "metadata": {
        "id": "gS5zzqPuxYQ-"
      },
      "outputs": [],
      "source": [
        "# load doc into memory\n",
        "def load_doc(filename):\n",
        "  # open the file as read only\n",
        "  file = open(filename, mode='rt' , encoding='utf-8')\n",
        "  # read all text\n",
        "  text = file.read()\n",
        "  # close the file\n",
        "  file.close()\n",
        "  return text"
      ]
    },
    {
      "cell_type": "code",
      "source": [
        "# split a loaded document into sentences\n",
        "def to_pairs(doc):\n",
        "  lines = doc.strip().split('\\n') # split document by line\n",
        "  pairs = [line.split('\\t') for line in lines]\n",
        "  return pairs"
      ],
      "metadata": {
        "id": "BCT7piVyzHo8"
      },
      "execution_count": null,
      "outputs": []
    },
    {
      "cell_type": "code",
      "source": [
        "# clean a list of lines\n",
        "def clean_pairs_fn(lines):\n",
        "  cleaned = list()\n",
        "  # prepare regex for char filtering\n",
        "  re_punc = re.compile('[%s]' % re.escape(string.punctuation))\n",
        "  re_print = re.compile('[^%s]' % re.escape(string.printable))\n",
        "  for pair in lines:\n",
        "    clean_pair = list()\n",
        "    for line in pair:\n",
        "      # normalize unicode characters\n",
        "      line = normalize('NFD' , line).encode('ascii' , 'ignore')\n",
        "      line = line.decode('UTF-8')\n",
        "      # remove \"-\" in composed words \"serre-toi\", etc...\n",
        "      line = line.replace(\"-\", \" \")\n",
        "      # remove \"'\" in composed words \"j'ai\", etc...\n",
        "      line = line.replace(\"'\", \" \")\n",
        "      # tokenize on white space\n",
        "      line = line.split()\n",
        "      # convert to lowercase\n",
        "      line = [word.lower() for word in line]\n",
        "      # remove punctuation from each token\n",
        "      line = [re_punc.sub('', w) for w in line]\n",
        "      # remove non-printable chars form each token\n",
        "      line = [re_print.sub('', w) for w in line]\n",
        "      # remove tokens with numbers in them\n",
        "      line = [word for word in line if word.isalpha()]\n",
        "      # Add <SOS> + <EOS> token\n",
        "      line = [\"<SOS>\"] + line + [\"<EOS>\"]\n",
        "      # store as string\n",
        "      clean_pair.append(' '.join(line))\n",
        "    cleaned.append(clean_pair)\n",
        "  return np.array(cleaned)"
      ],
      "metadata": {
        "id": "UdXiO9ytzjen"
      },
      "execution_count": null,
      "outputs": []
    },
    {
      "cell_type": "code",
      "source": [
        "# save a list of clean sentences to file\n",
        "def save_clean_data(sentences, filename):\n",
        "  dump(sentences, open(filename, 'wb'))\n",
        "  print('Saved: %s' % filename)"
      ],
      "metadata": {
        "id": "wNMI2xoSdjfA"
      },
      "execution_count": null,
      "outputs": []
    },
    {
      "cell_type": "code",
      "source": [
        "filename = '/content/drive/MyDrive/12_Teaching/UM6P-NLP-Jan2022/notebooks/fra-eng/fra.txt'\n",
        "doc = load_doc(filename)\n",
        "# split into english-french pairs\n",
        "pairs = to_pairs(doc)\n",
        "print(\"number of pairs\", len(pairs))\n",
        "for i in range(50):\n",
        "  print(pairs[i])"
      ],
      "metadata": {
        "colab": {
          "base_uri": "https://localhost:8080/"
        },
        "id": "RT73bQBiBD3n",
        "outputId": "f23fdf01-54d2-424f-e486-3d50fef9f9c4"
      },
      "execution_count": null,
      "outputs": [
        {
          "output_type": "stream",
          "name": "stdout",
          "text": [
            "number of pairs 192341\n",
            "['Go.', 'Va !', 'CC-BY 2.0 (France) Attribution: tatoeba.org #2877272 (CM) & #1158250 (Wittydev)']\n",
            "['Go.', 'Marche.', 'CC-BY 2.0 (France) Attribution: tatoeba.org #2877272 (CM) & #8090732 (Micsmithel)']\n",
            "['Go.', 'Bouge !', 'CC-BY 2.0 (France) Attribution: tatoeba.org #2877272 (CM) & #9022935 (Micsmithel)']\n",
            "['Hi.', 'Salut !', 'CC-BY 2.0 (France) Attribution: tatoeba.org #538123 (CM) & #509819 (Aiji)']\n",
            "['Hi.', 'Salut.', 'CC-BY 2.0 (France) Attribution: tatoeba.org #538123 (CM) & #4320462 (gillux)']\n",
            "['Run!', 'Cours\\u202f!', 'CC-BY 2.0 (France) Attribution: tatoeba.org #906328 (papabear) & #906331 (sacredceltic)']\n",
            "['Run!', 'Courez\\u202f!', 'CC-BY 2.0 (France) Attribution: tatoeba.org #906328 (papabear) & #906332 (sacredceltic)']\n",
            "['Run!', 'Prenez vos jambes à vos cous !', 'CC-BY 2.0 (France) Attribution: tatoeba.org #906328 (papabear) & #2077449 (sacredceltic)']\n",
            "['Run!', 'File !', 'CC-BY 2.0 (France) Attribution: tatoeba.org #906328 (papabear) & #2077454 (sacredceltic)']\n",
            "['Run!', 'Filez !', 'CC-BY 2.0 (France) Attribution: tatoeba.org #906328 (papabear) & #2077455 (sacredceltic)']\n",
            "['Run!', 'Cours !', 'CC-BY 2.0 (France) Attribution: tatoeba.org #906328 (papabear) & #4580779 (franlexcois)']\n",
            "['Run!', 'Fuyez !', 'CC-BY 2.0 (France) Attribution: tatoeba.org #906328 (papabear) & #7957917 (Micsmithel)']\n",
            "['Run!', 'Fuyons !', 'CC-BY 2.0 (France) Attribution: tatoeba.org #906328 (papabear) & #7957918 (Micsmithel)']\n",
            "['Run.', 'Cours\\u202f!', 'CC-BY 2.0 (France) Attribution: tatoeba.org #4008918 (JSakuragi) & #906331 (sacredceltic)']\n",
            "['Run.', 'Courez\\u202f!', 'CC-BY 2.0 (France) Attribution: tatoeba.org #4008918 (JSakuragi) & #906332 (sacredceltic)']\n",
            "['Run.', 'Prenez vos jambes à vos cous !', 'CC-BY 2.0 (France) Attribution: tatoeba.org #4008918 (JSakuragi) & #2077449 (sacredceltic)']\n",
            "['Run.', 'File !', 'CC-BY 2.0 (France) Attribution: tatoeba.org #4008918 (JSakuragi) & #2077454 (sacredceltic)']\n",
            "['Run.', 'Filez !', 'CC-BY 2.0 (France) Attribution: tatoeba.org #4008918 (JSakuragi) & #2077455 (sacredceltic)']\n",
            "['Run.', 'Cours !', 'CC-BY 2.0 (France) Attribution: tatoeba.org #4008918 (JSakuragi) & #4580779 (franlexcois)']\n",
            "['Run.', 'Fuyez !', 'CC-BY 2.0 (France) Attribution: tatoeba.org #4008918 (JSakuragi) & #7957917 (Micsmithel)']\n",
            "['Run.', 'Fuyons !', 'CC-BY 2.0 (France) Attribution: tatoeba.org #4008918 (JSakuragi) & #7957918 (Micsmithel)']\n",
            "['Who?', 'Qui ?', 'CC-BY 2.0 (France) Attribution: tatoeba.org #2083030 (CK) & #4366796 (gillux)']\n",
            "['Wow!', 'Ça alors\\u202f!', 'CC-BY 2.0 (France) Attribution: tatoeba.org #52027 (Zifre) & #374631 (zmoo)']\n",
            "['Duck!', 'À terre\\xa0!', 'CC-BY 2.0 (France) Attribution: tatoeba.org #280158 (CM) & #6288793 (Whidou)']\n",
            "['Duck!', 'Baisse-toi\\xa0!', 'CC-BY 2.0 (France) Attribution: tatoeba.org #280158 (CM) & #6288797 (Whidou)']\n",
            "['Duck!', 'Baissez-vous\\xa0!', 'CC-BY 2.0 (France) Attribution: tatoeba.org #280158 (CM) & #6288799 (Whidou)']\n",
            "['Fire!', 'Au feu !', 'CC-BY 2.0 (France) Attribution: tatoeba.org #1829639 (Spamster) & #4627939 (sacredceltic)']\n",
            "['Help!', \"À l'aide\\u202f!\", 'CC-BY 2.0 (France) Attribution: tatoeba.org #435084 (lukaszpp) & #128430 (sysko)']\n",
            "['Hide.', 'Cache-toi.', 'CC-BY 2.0 (France) Attribution: tatoeba.org #8907581 (CK) & #9934893 (codl)']\n",
            "['Hide.', 'Cachez-vous.', 'CC-BY 2.0 (France) Attribution: tatoeba.org #8907581 (CK) & #9934894 (codl)']\n",
            "['Jump!', 'Saute.', 'CC-BY 2.0 (France) Attribution: tatoeba.org #1102981 (jamessilver) & #2416938 (Micsmithel)']\n",
            "['Jump.', 'Saute.', 'CC-BY 2.0 (France) Attribution: tatoeba.org #631038 (Shishir) & #2416938 (Micsmithel)']\n",
            "['Stop!', 'Ça suffit\\u202f!', 'CC-BY 2.0 (France) Attribution: tatoeba.org #448320 (CM) & #516030 (Goofy)']\n",
            "['Stop!', 'Stop\\u202f!', 'CC-BY 2.0 (France) Attribution: tatoeba.org #448320 (CM) & #626567 (U2FS)']\n",
            "['Stop!', 'Arrête-toi !', 'CC-BY 2.0 (France) Attribution: tatoeba.org #448320 (CM) & #1157663 (sacredceltic)']\n",
            "['Wait!', 'Attends !', 'CC-BY 2.0 (France) Attribution: tatoeba.org #1744314 (belgavox) & #1157682 (sacredceltic)']\n",
            "['Wait!', 'Attendez !', 'CC-BY 2.0 (France) Attribution: tatoeba.org #1744314 (belgavox) & #1157684 (sacredceltic)']\n",
            "['Wait!', 'Attendez.', 'CC-BY 2.0 (France) Attribution: tatoeba.org #1744314 (belgavox) & #7693749 (Micsmithel)']\n",
            "['Wait.', 'Attends !', 'CC-BY 2.0 (France) Attribution: tatoeba.org #3048304 (camilozeta) & #1157682 (sacredceltic)']\n",
            "['Wait.', 'Attendez !', 'CC-BY 2.0 (France) Attribution: tatoeba.org #3048304 (camilozeta) & #1157684 (sacredceltic)']\n",
            "['Wait.', 'Attends.', 'CC-BY 2.0 (France) Attribution: tatoeba.org #3048304 (camilozeta) & #5137155 (gege_veggie)']\n",
            "['Wait.', 'Attendez.', 'CC-BY 2.0 (France) Attribution: tatoeba.org #3048304 (camilozeta) & #7693749 (Micsmithel)']\n",
            "['Begin.', 'Commencez.', 'CC-BY 2.0 (France) Attribution: tatoeba.org #6102432 (mailohilohi) & #7956660 (Micsmithel)']\n",
            "['Begin.', 'Commence.', 'CC-BY 2.0 (France) Attribution: tatoeba.org #6102432 (mailohilohi) & #7957931 (Micsmithel)']\n",
            "['Go on.', 'Poursuis.', 'CC-BY 2.0 (France) Attribution: tatoeba.org #2230774 (CK) & #588132 (sacredceltic)']\n",
            "['Go on.', 'Continuez.', 'CC-BY 2.0 (France) Attribution: tatoeba.org #2230774 (CK) & #6463161 (Aiji)']\n",
            "['Go on.', 'Poursuivez.', 'CC-BY 2.0 (France) Attribution: tatoeba.org #2230774 (CK) & #6463162 (Aiji)']\n",
            "['Hello!', 'Bonjour !', 'CC-BY 2.0 (France) Attribution: tatoeba.org #373330 (CK) & #373345 (Aiji)']\n",
            "['Hello!', 'Salut !', 'CC-BY 2.0 (France) Attribution: tatoeba.org #373330 (CK) & #509819 (Aiji)']\n",
            "['I see.', 'Je comprends.', 'CC-BY 2.0 (France) Attribution: tatoeba.org #2111796 (CK) & #1511205 (Hikari)']\n"
          ]
        }
      ]
    },
    {
      "cell_type": "code",
      "source": [
        "# clean sentences\n",
        "clean_pairs = clean_pairs_fn(pairs)\n",
        "# save clean pairs to file\n",
        "save_clean_data(clean_pairs, 'english-french.pkl')\n",
        "# spot check\n",
        "for i in range(50):\n",
        "  print('[%s] => [%s]' % (clean_pairs[i,0], clean_pairs[i,1]))"
      ],
      "metadata": {
        "colab": {
          "base_uri": "https://localhost:8080/"
        },
        "id": "FONK14EG0WOx",
        "outputId": "19f4f969-99e0-40e5-bfa5-23c27bd5cccc"
      },
      "execution_count": null,
      "outputs": [
        {
          "output_type": "stream",
          "name": "stdout",
          "text": [
            "Saved: english-french.pkl\n",
            "[<SOS> go <EOS>] => [<SOS> va <EOS>]\n",
            "[<SOS> go <EOS>] => [<SOS> marche <EOS>]\n",
            "[<SOS> go <EOS>] => [<SOS> bouge <EOS>]\n",
            "[<SOS> hi <EOS>] => [<SOS> salut <EOS>]\n",
            "[<SOS> hi <EOS>] => [<SOS> salut <EOS>]\n",
            "[<SOS> run <EOS>] => [<SOS> cours <EOS>]\n",
            "[<SOS> run <EOS>] => [<SOS> courez <EOS>]\n",
            "[<SOS> run <EOS>] => [<SOS> prenez vos jambes a vos cous <EOS>]\n",
            "[<SOS> run <EOS>] => [<SOS> file <EOS>]\n",
            "[<SOS> run <EOS>] => [<SOS> filez <EOS>]\n",
            "[<SOS> run <EOS>] => [<SOS> cours <EOS>]\n",
            "[<SOS> run <EOS>] => [<SOS> fuyez <EOS>]\n",
            "[<SOS> run <EOS>] => [<SOS> fuyons <EOS>]\n",
            "[<SOS> run <EOS>] => [<SOS> cours <EOS>]\n",
            "[<SOS> run <EOS>] => [<SOS> courez <EOS>]\n",
            "[<SOS> run <EOS>] => [<SOS> prenez vos jambes a vos cous <EOS>]\n",
            "[<SOS> run <EOS>] => [<SOS> file <EOS>]\n",
            "[<SOS> run <EOS>] => [<SOS> filez <EOS>]\n",
            "[<SOS> run <EOS>] => [<SOS> cours <EOS>]\n",
            "[<SOS> run <EOS>] => [<SOS> fuyez <EOS>]\n",
            "[<SOS> run <EOS>] => [<SOS> fuyons <EOS>]\n",
            "[<SOS> who <EOS>] => [<SOS> qui <EOS>]\n",
            "[<SOS> wow <EOS>] => [<SOS> ca alors <EOS>]\n",
            "[<SOS> duck <EOS>] => [<SOS> a terre <EOS>]\n",
            "[<SOS> duck <EOS>] => [<SOS> baisse toi <EOS>]\n",
            "[<SOS> duck <EOS>] => [<SOS> baissez vous <EOS>]\n",
            "[<SOS> fire <EOS>] => [<SOS> au feu <EOS>]\n",
            "[<SOS> help <EOS>] => [<SOS> a l aide <EOS>]\n",
            "[<SOS> hide <EOS>] => [<SOS> cache toi <EOS>]\n",
            "[<SOS> hide <EOS>] => [<SOS> cachez vous <EOS>]\n",
            "[<SOS> jump <EOS>] => [<SOS> saute <EOS>]\n",
            "[<SOS> jump <EOS>] => [<SOS> saute <EOS>]\n",
            "[<SOS> stop <EOS>] => [<SOS> ca suffit <EOS>]\n",
            "[<SOS> stop <EOS>] => [<SOS> stop <EOS>]\n",
            "[<SOS> stop <EOS>] => [<SOS> arrete toi <EOS>]\n",
            "[<SOS> wait <EOS>] => [<SOS> attends <EOS>]\n",
            "[<SOS> wait <EOS>] => [<SOS> attendez <EOS>]\n",
            "[<SOS> wait <EOS>] => [<SOS> attendez <EOS>]\n",
            "[<SOS> wait <EOS>] => [<SOS> attends <EOS>]\n",
            "[<SOS> wait <EOS>] => [<SOS> attendez <EOS>]\n",
            "[<SOS> wait <EOS>] => [<SOS> attends <EOS>]\n",
            "[<SOS> wait <EOS>] => [<SOS> attendez <EOS>]\n",
            "[<SOS> begin <EOS>] => [<SOS> commencez <EOS>]\n",
            "[<SOS> begin <EOS>] => [<SOS> commence <EOS>]\n",
            "[<SOS> go on <EOS>] => [<SOS> poursuis <EOS>]\n",
            "[<SOS> go on <EOS>] => [<SOS> continuez <EOS>]\n",
            "[<SOS> go on <EOS>] => [<SOS> poursuivez <EOS>]\n",
            "[<SOS> hello <EOS>] => [<SOS> bonjour <EOS>]\n",
            "[<SOS> hello <EOS>] => [<SOS> salut <EOS>]\n",
            "[<SOS> i see <EOS>] => [<SOS> je comprends <EOS>]\n"
          ]
        }
      ]
    },
    {
      "cell_type": "markdown",
      "source": [
        "The clean data contains a little over 190,000 phrase pairs and some of the pairs toward the end\n",
        "of the file are very long. This is a good number of examples for developing a small translation\n",
        "model. The complexity of the model increases with the number of examples, length of phrases,\n",
        "and size of the vocabulary. Although we have a good dataset for modeling translation, we will\n",
        "simplify the problem slightly to dramatically reduce the size of the model required, and in turn\n",
        "the training time required to fit the model.\n",
        "\n",
        "You can explore developing a model on the fuller dataset as an extension; I would love to\n",
        "hear how you do. We will simplify the problem by reducing the dataset to the first 50,000\n",
        "examples in the file; these will be the shortest phrases in the dataset. Further, we will then\n",
        "stake the first 40,000 of those as examples for training and the remaining 10,000 examples to test\n",
        "the fit model."
      ],
      "metadata": {
        "id": "UpPqWXKi0khM"
      }
    },
    {
      "cell_type": "code",
      "source": [
        "from pickle import load\n",
        "from pickle import dump\n",
        "from numpy.random import shuffle\n",
        "# load a clean dataset\n",
        "def load_clean_sentences(filename):\n",
        "  return load(open(filename, 'rb'))\n",
        "# load dataset\n",
        "raw_dataset = load_clean_sentences('english-french.pkl')\n",
        "# reduce dataset size\n",
        "n_sentences = 50000\n",
        "dataset = raw_dataset[:n_sentences, :]\n",
        "# random shuffle\n",
        "shuffle(dataset)\n",
        "# split into train/test\n",
        "train, test = dataset[:40000], dataset[40000:]\n",
        "# save\n",
        "save_clean_data(dataset, 'english-french-both.pkl')\n",
        "save_clean_data(train, 'english-french-train.pkl')\n",
        "save_clean_data(test, 'english-french-test.pkl')"
      ],
      "metadata": {
        "colab": {
          "base_uri": "https://localhost:8080/"
        },
        "id": "zTAg0b-_07Ip",
        "outputId": "cd10170b-b945-4e34-fd0b-7a630829470f"
      },
      "execution_count": null,
      "outputs": [
        {
          "output_type": "stream",
          "name": "stdout",
          "text": [
            "Saved: english-french-both.pkl\n",
            "Saved: english-french-train.pkl\n",
            "Saved: english-french-test.pkl\n"
          ]
        }
      ]
    },
    {
      "cell_type": "code",
      "source": [
        "# load datasets\n",
        "dataset = load_clean_sentences('english-french-both.pkl')\n",
        "train = load_clean_sentences('english-french-train.pkl')\n",
        "test = load_clean_sentences('english-french-test.pkl')"
      ],
      "metadata": {
        "id": "lVJCToFd1YT6"
      },
      "execution_count": null,
      "outputs": []
    },
    {
      "cell_type": "code",
      "source": [
        "# fit a tokenizer\n",
        "def create_tokenizer(lines):\n",
        "  tokenizer = Tokenizer() # create an tokenizer object\n",
        "  tokenizer.fit_on_texts(lines) # Build the vocabulary\n",
        "  return tokenizer"
      ],
      "metadata": {
        "id": "Adg4WLw31mtW"
      },
      "execution_count": null,
      "outputs": []
    },
    {
      "cell_type": "code",
      "source": [
        "# max sentence length - used for padding. \n",
        "def max_length(lines):\n",
        "  return max(len(line.split()) for line in lines)"
      ],
      "metadata": {
        "id": "0ZacM2oe1t8Q"
      },
      "execution_count": null,
      "outputs": []
    },
    {
      "cell_type": "code",
      "source": [
        "# prepare english tokenizer\n",
        "eng_tokenizer = create_tokenizer(dataset[:, 0])\n",
        "eng_vocab_size = len(eng_tokenizer.word_index) + 1 # for padding token.\n",
        "eng_length = max_length(dataset[:, 0])\n",
        "print('English Vocabulary Size: %d' % eng_vocab_size)\n",
        "print('English Max Length: %d' % (eng_length))\n",
        "# prepare french tokenizer\n",
        "fr_tokenizer = create_tokenizer(dataset[:, 1])\n",
        "fr_vocab_size = len(fr_tokenizer.word_index) + 1 # for padding token. \n",
        "fr_length = max_length(dataset[:, 1])\n",
        "print('French Vocabulary Size: %d ' % fr_vocab_size)\n",
        "print('French Max Length: %d ' % (fr_length))"
      ],
      "metadata": {
        "colab": {
          "base_uri": "https://localhost:8080/"
        },
        "id": "yZC_yhAh1v9a",
        "outputId": "463e8955-7d91-4777-ace7-44fae3bad7a7"
      },
      "execution_count": null,
      "outputs": [
        {
          "output_type": "stream",
          "name": "stdout",
          "text": [
            "English Vocabulary Size: 5933\n",
            "English Max Length: 9\n",
            "French Vocabulary Size: 10313 \n",
            "French Max Length: 17 \n"
          ]
        }
      ]
    },
    {
      "cell_type": "code",
      "source": [
        "# encode and pad sequences\n",
        "def encode_sequences(tokenizer, length, lines):\n",
        "  # integer encode sequences\n",
        "  X = tokenizer.texts_to_sequences(lines)\n",
        "  # pad sequences with 0 values\n",
        "  X = pad_sequences(X, maxlen=length, padding='post')\n",
        "  return X"
      ],
      "metadata": {
        "id": "xFSvjJtB2Vue"
      },
      "execution_count": null,
      "outputs": []
    },
    {
      "cell_type": "code",
      "source": [
        "# prepare training data\n",
        "trainX = encode_sequences(fr_tokenizer, fr_length, train[:, 1])\n",
        "print(\"train input shape\", trainX.shape)\n",
        "trainY = encode_sequences(eng_tokenizer, eng_length, train[:, 0])\n",
        "print(\"train target shape\", trainY.shape)\n",
        "# prepare validation data\n",
        "testX = encode_sequences(fr_tokenizer, fr_length, test[:, 1])\n",
        "print(\"test input shape\", testX.shape)\n",
        "testY = encode_sequences(eng_tokenizer, eng_length, test[:, 0])\n",
        "print(\"test input shape\", testY.shape)"
      ],
      "metadata": {
        "colab": {
          "base_uri": "https://localhost:8080/"
        },
        "id": "krOFRW6M2hlo",
        "outputId": "98315fd4-6f72-42d3-99de-14a414d2a49e"
      },
      "execution_count": null,
      "outputs": [
        {
          "output_type": "stream",
          "name": "stdout",
          "text": [
            "train input shape (40000, 17)\n",
            "train target shape (40000, 9)\n",
            "test input shape (10000, 17)\n",
            "test input shape (10000, 9)\n"
          ]
        }
      ]
    },
    {
      "cell_type": "code",
      "source": [
        "trainX[0]"
      ],
      "metadata": {
        "colab": {
          "base_uri": "https://localhost:8080/"
        },
        "id": "-YlR7mu5wr97",
        "outputId": "22b1cfc6-a66d-46ef-99af-7413b4941253"
      },
      "execution_count": null,
      "outputs": [
        {
          "output_type": "execute_result",
          "data": {
            "text/plain": [
              "array([  1,  82, 207,   2,   0,   0,   0,   0,   0,   0,   0,   0,   0,\n",
              "         0,   0,   0,   0], dtype=int32)"
            ]
          },
          "metadata": {},
          "execution_count": 19
        }
      ]
    },
    {
      "cell_type": "code",
      "source": [
        "BUFFER_SIZE = len(trainX)\n",
        "BATCH_SIZE = 64\n",
        "train_dataset = tf.data.Dataset.from_tensor_slices((trainX, trainY)).shuffle(BUFFER_SIZE) # tensorflow dataset. \n",
        "train_dataset = train_dataset.batch(BATCH_SIZE)\n",
        "test_dataset = tf.data.Dataset.from_tensor_slices((testX, testY)).shuffle(BUFFER_SIZE)\n",
        "test_dataset = test_dataset.batch(BATCH_SIZE)"
      ],
      "metadata": {
        "id": "UhZWdT30377P"
      },
      "execution_count": null,
      "outputs": []
    },
    {
      "cell_type": "markdown",
      "source": [
        "## The encoder/decoder model\n",
        "\n",
        "The following diagram shows an overview of the model. At each time-step the decoder's output is combined with a weighted sum over the encoded input, to predict the next word. The diagram and formulas are from [Luong's paper](https://arxiv.org/abs/1508.04025v5).\n",
        "\n",
        "<img src=\"https://www.tensorflow.org/images/seq2seq/attention_mechanism.jpg\" width=\"500\" alt=\"attention mechanism\">"
      ],
      "metadata": {
        "id": "-Phh5Og95QJE"
      }
    },
    {
      "cell_type": "markdown",
      "source": [
        "### The encoder\n",
        "\n",
        "Start by building the encoder, the blue part of the diagram above.\n",
        "\n",
        "The encoder:\n",
        "\n",
        "1. Takes a list of token IDs.\n",
        "3. Looks up an embedding vector for each token (Using a `layers.Embedding`).\n",
        "4. Processes the embeddings into a new sequence (Using a `layers.GRU`).\n",
        "5. Returns:\n",
        "  * The processed sequence. This will be passed to the attention head.\n",
        "  * The internal state. This will be used to initialize the decoder"
      ],
      "metadata": {
        "id": "gW4_ZFP25fmi"
      }
    },
    {
      "cell_type": "code",
      "source": [
        "class Encoder(tf.keras.layers.Layer):\n",
        "  def __init__(self, input_vocab_size, embedding_dim, enc_units):\n",
        "    super(Encoder, self).__init__()\n",
        "    # attributes\n",
        "    self.enc_units = enc_units\n",
        "    self.input_vocab_size = input_vocab_size\n",
        "    # The embedding layer converts tokens to vectors\n",
        "    self.embedding = tf.keras.layers.Embedding(input_dim=self.input_vocab_size, output_dim=embedding_dim)\n",
        "\n",
        "    # The GRU RNN layer processes those vectors sequentially.\n",
        "    self.gru = tf.keras.layers.GRU(units=self.enc_units, return_sequences=True, return_state=True, recurrent_initializer='glorot_uniform')\n",
        "\n",
        "  def call(self, tokens, state=None):\n",
        "    # 2. The embedding layer looks up the embedding for each token.\n",
        "    vectors = self.embedding(tokens) # (batch, seq_len, embedding_dim)\n",
        "\n",
        "    # 3. The GRU processes the embedding sequence.\n",
        "    #    output shape: (batch, s, enc_units)\n",
        "    #    state shape: (batch, enc_units)\n",
        "    output, state = self.gru(vectors, initial_state=state)\n",
        "    \n",
        "\n",
        "    # 4. Returns the new sequence and its state.\n",
        "    return output, state"
      ],
      "metadata": {
        "id": "JafMrAty4pj7"
      },
      "execution_count": null,
      "outputs": []
    },
    {
      "cell_type": "code",
      "source": [
        "# TEST THE ENCODER\n",
        "embedding_dim = 32\n",
        "units= 128\n",
        "encoder = Encoder(fr_vocab_size,\n",
        "                    embedding_dim, units)\n",
        "for (input_tokens, target_tokens)  in train_dataset.take(1):\n",
        "  # Encode the input sequence.\n",
        "  example_enc_output, example_enc_state = encoder(input_tokens)\n",
        "\n",
        "  print(f'Input batch tokens, shape (batch, s): {input_tokens.shape}')\n",
        "  print(f'Encoder output, shape (batch, s, units): {example_enc_output.shape}')\n",
        "  print(f'Encoder state, shape (batch, units): {example_enc_state.shape}')"
      ],
      "metadata": {
        "colab": {
          "base_uri": "https://localhost:8080/"
        },
        "id": "WehjYhrp5r8F",
        "outputId": "ccfee9b3-288e-438f-8283-059101567929"
      },
      "execution_count": null,
      "outputs": [
        {
          "output_type": "stream",
          "name": "stdout",
          "text": [
            "Input batch tokens, shape (batch, s): (64, 17)\n",
            "Encoder output, shape (batch, s, units): (64, 17, 128)\n",
            "Encoder state, shape (batch, units): (64, 128)\n"
          ]
        }
      ]
    },
    {
      "cell_type": "markdown",
      "source": [
        "### The attention head\n",
        "\n",
        "The decoder uses attention to selectively focus on parts of the input sequence.\n",
        "The attention takes a sequence of vectors as input for each example and returns an \"attention\" vector for each example. This attention layer is similar to a `layers.GlobalAveragePoling1D` but the attention layer performs a _weighted_ average.\n",
        "\n",
        "Let's look at how this works:\n",
        "\n",
        "<img src=\"https://github.com/tensorflow/text/blob/master/docs/tutorials/images/attention_equation_1.jpg?raw=1\" alt=\"attention equation 1\" width=\"800\">\n",
        "\n",
        "<img src=\"https://github.com/tensorflow/text/blob/master/docs/tutorials/images/attention_equation_2.jpg?raw=1\" alt=\"attention equation 2\" width=\"800\">"
      ],
      "metadata": {
        "id": "gPV_8a_D7G2M"
      }
    },
    {
      "cell_type": "markdown",
      "source": [
        "Where:\n",
        "* $s$ is the encoder index.\n",
        "* $t$ is the decoder index.\n",
        "* $\\alpha_{ts}$ is the attention weights.\n",
        "* $h_s$ is the sequence of encoder outputs being attended to (the attention \"key\" and \"value\" in general attention model terminology).\n",
        "* $h_t$ is the the decoder state attending to the sequence (the attention \"query\" in general attention model terminology).\n",
        "* $c_t$ is the resulting context vector.\n",
        "* $a_t$ is the final output combining the \"context\" and \"query\".\n",
        "\n",
        "The equations:\n",
        "\n",
        "1. Calculates the attention weights, $\\alpha_{ts}$, as a softmax across the encoder's output sequence.\n",
        "2. Calculates the context vector as the weighted sum of the encoder outputs."
      ],
      "metadata": {
        "id": "NegpvM8N8FEq"
      }
    },
    {
      "cell_type": "markdown",
      "source": [
        "Last is the $score$ function. Its job is to calculate a scalar logit-score for each key-query pair. There are two common approaches:\n",
        "\n",
        "<img src=\"https://github.com/tensorflow/text/blob/master/docs/tutorials/images/attention_equation_4.jpg?raw=1\" alt=\"attention equation 4\" width=\"800\">\n",
        "\n",
        "This tutorial uses [Bahdanau's additive attention](https://arxiv.org/pdf/1409.0473.pdf).  \n",
        " TensorFlow includes implementations of both as `layers.Attention` and\n",
        "`layers.AdditiveAttention`. The class below handles the weight matrices in a pair of `layers.Dense` layers, and calls the builtin implementation.  \n",
        "See documentation: https://www.tensorflow.org/api_docs/python/tf/keras/layers/AdditiveAttention\n",
        "\n"
      ],
      "metadata": {
        "id": "IJwDpknr8MTp"
      }
    },
    {
      "cell_type": "code",
      "source": [
        "class BahdanauAttention(tf.keras.layers.Layer):\n",
        "  def __init__(self, units):\n",
        "    super().__init__()\n",
        "    # For Eqn. (4), the  Bahdanau attention\n",
        "    self.W1 = tf.keras.layers.Dense(units, use_bias=False)\n",
        "    self.W2 = tf.keras.layers.Dense(units, use_bias=False)\n",
        "    # attention layer\n",
        "    self.attention = tf.keras.layers.AdditiveAttention()\n",
        "\n",
        "  def call(self, query, value, mask):\n",
        "    # From Eqn. (4), `W1@ht`.\n",
        "    w1_query = self.W1(query) # query = h_t of decoder\n",
        "    # From Eqn. (4), `W2@hs`.\n",
        "    w2_value = self.W2(value) # value = h_s of the encoder. \n",
        "\n",
        "    # compute masks\n",
        "    query_mask = tf.ones(tf.shape(query)[:-1], dtype=bool) # shape (batch, query_sequence_length)\n",
        "    value_mask = mask\n",
        "\n",
        "    # compute attention vector using self.attention\n",
        "    context_vector, attention_weights = self.attention(inputs=[w1_query, value, w2_value], mask=[query_mask, value_mask], return_attention_scores=True)\n",
        "\n",
        "    return context_vector, attention_weights"
      ],
      "metadata": {
        "id": "mBkJbozm8GlR"
      },
      "execution_count": null,
      "outputs": []
    },
    {
      "cell_type": "code",
      "source": [
        "# TEST THE ATTENTION LAYER\n",
        "attention_layer = BahdanauAttention(units)\n",
        "# Later, the decoder will generate this attention query\n",
        "example_attention_query = tf.random.normal(shape=[len(input_tokens), 2, 10])\n",
        "\n",
        "# Attend to the encoded tokens\n",
        "context_vector, attention_weights = attention_layer(\n",
        "    query=example_attention_query,\n",
        "    value=example_enc_output,\n",
        "    mask=(input_tokens != 0))\n",
        "\n",
        "print(f'Attention result shape: (batch_size, query_seq_length, units):           {context_vector.shape}')\n",
        "print(f'Attention weights shape: (batch_size, query_seq_length, value_seq_length): {attention_weights.shape}')"
      ],
      "metadata": {
        "colab": {
          "base_uri": "https://localhost:8080/"
        },
        "id": "hRN0rnab8l4-",
        "outputId": "1f88bf5b-3545-41e6-9539-465e9ff43ed5"
      },
      "execution_count": null,
      "outputs": [
        {
          "output_type": "stream",
          "name": "stdout",
          "text": [
            "Attention result shape: (batch_size, query_seq_length, units):           (64, 2, 128)\n",
            "Attention weights shape: (batch_size, query_seq_length, value_seq_length): (64, 2, 17)\n"
          ]
        }
      ]
    },
    {
      "cell_type": "code",
      "source": [
        "plt.subplot(1, 2, 1)\n",
        "plt.pcolormesh(attention_weights[:, 0, :])\n",
        "plt.title('Attention weights')\n",
        "\n",
        "plt.subplot(1, 2, 2)\n",
        "plt.pcolormesh(input_tokens != 0)\n",
        "plt.title('Mask')"
      ],
      "metadata": {
        "colab": {
          "base_uri": "https://localhost:8080/",
          "height": 299
        },
        "id": "zQdiF2o4Ac75",
        "outputId": "9aca64c5-1e6c-4c6a-f99b-8cf497a81f62"
      },
      "execution_count": null,
      "outputs": [
        {
          "output_type": "execute_result",
          "data": {
            "text/plain": [
              "Text(0.5, 1.0, 'Mask')"
            ]
          },
          "metadata": {},
          "execution_count": 28
        },
        {
          "output_type": "display_data",
          "data": {
            "image/png": "[encoded data removed]",
            "text/plain": [
              "<Figure size 432x288 with 2 Axes>"
            ]
          },
          "metadata": {
            "needs_background": "light"
          }
        }
      ]
    },
    {
      "cell_type": "markdown",
      "source": [
        "### The decoder\n",
        "\n",
        "The decoder's job is to generate predictions for the next output token.\n",
        "\n",
        "1. The decoder receives the complete encoder output.\n",
        "2. It uses an RNN to keep track of what it has generated so far.\n",
        "3. It uses its RNN output as the query to the attention over the encoder's output, producing the context vector.\n",
        "4. It combines the RNN output and the context vector using Equation 3 (below) to generate the \"attention vector\".\n",
        "5. It generates logit predictions for the next token based on the \"attention vector\".\n",
        "\n",
        "<img src=\"https://github.com/tensorflow/text/blob/master/docs/tutorials/images/attention_equation_3.jpg?raw=1\" alt=\"attention equation 3\" width=\"800\">"
      ],
      "metadata": {
        "id": "AZfMpR-2AlJL"
      }
    },
    {
      "cell_type": "code",
      "source": [
        "class Decoder(tf.keras.layers.Layer):\n",
        "  def __init__(self, output_vocab_size, embedding_dim, dec_units):\n",
        "    super(Decoder, self).__init__()\n",
        "    self.dec_units = dec_units\n",
        "    self.output_vocab_size = output_vocab_size\n",
        "    self.embedding_dim = embedding_dim\n",
        "\n",
        "    # For Step 1. The embedding layer convets token IDs to vectors\n",
        "    self.embedding = tf.keras.layers.Embedding(self.output_vocab_size,\n",
        "                                               embedding_dim)\n",
        "\n",
        "    # For Step 2. The RNN keeps track of what's been generated so far.\n",
        "    self.gru = tf.keras.layers.GRU(self.dec_units,\n",
        "                                   return_sequences=True,\n",
        "                                   return_state=True,\n",
        "                                   recurrent_initializer='glorot_uniform')\n",
        "\n",
        "    # For step 3. The RNN output will be the query for the attention layer.\n",
        "    self.attention = BahdanauAttention(self.dec_units)\n",
        "\n",
        "    # For step 4. Eqn. (3): converting `ct` to `at`\n",
        "    self.Wc = tf.keras.layers.Dense(dec_units, activation=tf.math.tanh,\n",
        "                                    use_bias=False)\n",
        "\n",
        "    # For step 5. This fully connected layer produces the logits for each\n",
        "    # output token.\n",
        "    self.fc = tf.keras.layers.Dense(self.output_vocab_size)"
      ],
      "metadata": {
        "id": "DYiK2Gc7AkW_"
      },
      "execution_count": null,
      "outputs": []
    },
    {
      "cell_type": "markdown",
      "source": [
        "The decoder takas an input a Nested Input with three elements (new_tokens = target tokens being decoded, enc_output, mask = to mask the padding tokens from the encoder output)"
      ],
      "metadata": {
        "id": "3rPdbVosmF7e"
      }
    },
    {
      "cell_type": "code",
      "source": [
        "NestedInput = collections.namedtuple('NestedInput', ['new_tokens', 'enc_output', 'mask'])\n",
        "#new_tokens = NestedInput.new_tokens\n",
        "#enc_output = NestedInput.enc_output\n",
        "#mask = NestedInput.mask"
      ],
      "metadata": {
        "id": "bVsretaZln-G"
      },
      "execution_count": null,
      "outputs": []
    },
    {
      "cell_type": "code",
      "source": [
        "def call(self,\n",
        "         inputs,\n",
        "         state=None):\n",
        "\n",
        "  # Step 1. Lookup the embeddings\n",
        "  vectors = self.embedding(inputs.new_tokens)\n",
        "\n",
        "  # Step 2. Process one step with the RNN\n",
        "  rnn_output, state = self.gru(vectors, initial_state=state)\n",
        "\n",
        "\n",
        "  # Step 3. Use the RNN output as the query for the attention over the\n",
        "  # encoder output.\n",
        "  context_vector, attention_weights = self.attention(\n",
        "      query=rnn_output, value=inputs.enc_output, mask=inputs.mask)\n",
        "\n",
        "\n",
        "  # Step 4. Eqn. (3): Join the context_vector and rnn_output\n",
        "  #     [ct; ht] shape: (batch t, value_units + query_units)\n",
        "  context_and_rnn_output = tf.concat([context_vector, rnn_output], axis=-1)\n",
        "\n",
        "  # Step 4. Eqn. (3): `at = tanh(Wc@[ct; ht])`\n",
        "  attention_vector = self.Wc(context_and_rnn_output)\n",
        "\n",
        "  # Step 5. Generate logit predictions:\n",
        "  logits = self.fc(attention_vector)\n",
        "\n",
        "  return logits, attention_weights, state"
      ],
      "metadata": {
        "id": "cMSA5ubTO-Jk"
      },
      "execution_count": null,
      "outputs": []
    },
    {
      "cell_type": "code",
      "source": [
        "Decoder.call = call"
      ],
      "metadata": {
        "id": "McwpGYj_Pbys"
      },
      "execution_count": null,
      "outputs": []
    },
    {
      "cell_type": "markdown",
      "source": [
        "The **encoder** processes its full input sequence with a single call to its RNN."
      ],
      "metadata": {
        "id": "JzG-vgL-PlIX"
      }
    },
    {
      "cell_type": "code",
      "source": [
        "eng_tokenizer.word_index[\"sos\"]"
      ],
      "metadata": {
        "colab": {
          "base_uri": "https://localhost:8080/"
        },
        "id": "bTCfCkseivG5",
        "outputId": "2db95c35-12c4-49c9-d8e0-bc9e162c9a6b"
      },
      "execution_count": null,
      "outputs": [
        {
          "output_type": "execute_result",
          "data": {
            "text/plain": [
              "1"
            ]
          },
          "metadata": {},
          "execution_count": 30
        }
      ]
    },
    {
      "cell_type": "code",
      "source": [
        "# Test the Decoder. \n",
        "decoder = Decoder(eng_vocab_size,\n",
        "                  embedding_dim, units)\n",
        "\n",
        "start_index = eng_tokenizer.word_index[\"sos\"]\n",
        "first_token = tf.constant([[start_index]] * target_tokens.shape[0])\n",
        "# Run the decoder\n",
        "logits, attn_weights, dec_state = decoder(\n",
        "    inputs = NestedInput(new_tokens=first_token,\n",
        "                          enc_output=example_enc_output,\n",
        "                          mask=(input_tokens != 0)),\n",
        "    state = example_enc_state\n",
        ")\n",
        "\n",
        "print(f'logits shape: (batch_size, t, output_vocab_size) {logits.shape}')\n",
        "print(f'state shape: (batch_size, dec_units) {dec_state.shape}')\n",
        "# Sample a token according the logits. \n",
        "sampled_token = tf.random.categorical(logits[:, 0, :], num_samples=1)"
      ],
      "metadata": {
        "colab": {
          "base_uri": "https://localhost:8080/"
        },
        "id": "bqcvQcHlPjlX",
        "outputId": "9d4a110d-adb8-4aa7-be97-a2c35dd65b25"
      },
      "execution_count": null,
      "outputs": [
        {
          "output_type": "stream",
          "name": "stdout",
          "text": [
            "logits shape: (batch_size, t, output_vocab_size) (64, 1, 5933)\n",
            "state shape: (batch_size, dec_units) (64, 128)\n"
          ]
        }
      ]
    },
    {
      "cell_type": "markdown",
      "source": [
        "## Training\n",
        "\n",
        "Now that you have all the model components, it's time to start training the model. You'll need:\n",
        "\n",
        "- A loss function and optimizer to perform the optimization.\n",
        "- A training step function defining how to update the model for each input/target batch.\n",
        "- A training loop to drive the training and save checkpoints."
      ],
      "metadata": {
        "id": "v6oHsvllRAgN"
      }
    },
    {
      "cell_type": "markdown",
      "source": [
        "### Define the loss function"
      ],
      "metadata": {
        "id": "2UdnGiM7R0hk"
      }
    },
    {
      "cell_type": "code",
      "source": [
        "class MaskedLoss(tf.keras.losses.Loss):\n",
        "  def __init__(self):\n",
        "    self.name = 'masked_loss'\n",
        "    self.loss = tf.keras.losses.SparseCategoricalCrossentropy(\n",
        "        from_logits=True, reduction='none')\n",
        "\n",
        "  def __call__(self, y_true, y_pred):\n",
        "    # Calculate the loss for each item in the batch.\n",
        "    loss = self.loss(y_true, y_pred) # y_true (batch, s=9) y_pred (batch, s, output_vocab_size)\n",
        "\n",
        "    # Mask off the losses on padding.\n",
        "    mask = tf.cast(y_true != 0, tf.float32)\n",
        "    loss *= mask # loss = loss * mask\n",
        "\n",
        "    # Return the total.\n",
        "    return tf.reduce_sum(loss)"
      ],
      "metadata": {
        "id": "_2o9pJzdRxO4"
      },
      "execution_count": null,
      "outputs": []
    },
    {
      "cell_type": "markdown",
      "source": [
        "### Implement the training step\n",
        "Start with a model class, the training process will be implemented as the `train_step` method on this model. See [Customizing fit](https://www.tensorflow.org/guide/keras/customizing_what_happens_in_fit) for details.\n",
        "\n",
        "Here the `train_step` method is a wrapper around the `_train_step` implementation which will come later. This wrapper includes a switch to turn on and off `tf.function` compilation, to make debugging easier."
      ],
      "metadata": {
        "id": "HAOlj_u8R8X7"
      }
    },
    {
      "cell_type": "code",
      "source": [
        "class TrainTranslator(tf.keras.Model):\n",
        "  def __init__(self, embedding_dim, units, inp_vocab_size, tar_vocab_size,\n",
        "               use_tf_function=True):\n",
        "    super().__init__()\n",
        "    # Build the encoder and decoder\n",
        "    encoder = Encoder(inp_vocab_size,\n",
        "                      embedding_dim, units)\n",
        "    decoder = Decoder(tar_vocab_size,\n",
        "                      embedding_dim, units)\n",
        "\n",
        "    self.encoder = encoder\n",
        "    self.decoder = decoder\n",
        "    self.use_tf_function = use_tf_function\n",
        "\n",
        "  def train_step(self, inputs):\n",
        "    if self.use_tf_function:\n",
        "      return self._tf_train_step(inputs)\n",
        "    else:\n",
        "      return self._train_step(inputs)"
      ],
      "metadata": {
        "id": "twNc4qLeR-oy"
      },
      "execution_count": null,
      "outputs": []
    },
    {
      "cell_type": "markdown",
      "source": [
        "Overall the implementation for the `Model.train_step` method is as follows:\n",
        "\n",
        "1. Receive a batch of `input_text, target_text` from the `tf.data.Dataset`.\n",
        "2. Convert those raw text inputs to token-embeddings and masks. \n",
        "3. Run the encoder on the `input_tokens` to get the `encoder_output` and `encoder_state`.\n",
        "4. Initialize the decoder state and loss. \n",
        "5. Loop over the `target_tokens`:\n",
        "   1. Run the decoder one step at a time.\n",
        "   2. Calculate the loss for each step.\n",
        "   3. Accumulate the average loss.\n",
        "6. Calculate the gradient of the loss and use the optimizer to apply updates to the model's `trainable_variables`."
      ],
      "metadata": {
        "id": "oGpxedQvSXHE"
      }
    },
    {
      "cell_type": "code",
      "source": [
        "def _create_masks(self, input_tokens, target_tokens):\n",
        "  # Convert IDs to masks.\n",
        "  input_mask = input_tokens != 0\n",
        "  target_mask = target_tokens != 0\n",
        "  return input_mask, target_mask"
      ],
      "metadata": {
        "id": "7iPJDY1rSWfY"
      },
      "execution_count": null,
      "outputs": []
    },
    {
      "cell_type": "code",
      "source": [
        "def _train_step(self, inputs):\n",
        "  input_tokens, target_tokens = inputs  \n",
        "\n",
        "  (input_mask, target_mask) = self._create_masks(input_tokens, target_tokens)\n",
        "\n",
        "  max_target_length = target_tokens.shape[1]\n",
        "\n",
        "  with tf.GradientTape() as tape:\n",
        "    # Encode the input\n",
        "    enc_output, enc_state = self.encoder(input_tokens)\n",
        "\n",
        "    # Initialize the decoder's state to the encoder's final state.\n",
        "    # This only works if the encoder and decoder have the same number of\n",
        "    # units.\n",
        "    dec_state = enc_state\n",
        "    loss = tf.constant(0.0)\n",
        "\n",
        "    for t in range(max_target_length-1):\n",
        "      # Pass in two tokens from the target sequence:\n",
        "      # 1. The current input to the decoder.\n",
        "      # 2. The target for the decoder's next prediction.\n",
        "      new_tokens = target_tokens[:,t:t+2] # get y_t, y_{t+1}\n",
        "      step_loss, dec_state = self._loop_step(new_tokens, input_mask, enc_output, dec_state)\n",
        "\n",
        "      loss += step_loss\n",
        "\n",
        "    # Average the loss over all non padding tokens.\n",
        "    average_loss = loss / tf.reduce_sum(tf.cast(target_mask, tf.float32))\n",
        "\n",
        "  # Apply an optimization step\n",
        "  variables = self.trainable_variables # get all weights of all layers of the tf.keras.Model\n",
        "  gradients = tape.gradient(average_loss, variables)\n",
        "  self.optimizer.apply_gradients(zip(gradients, variables))\n",
        "\n",
        "  # Return a dict mapping metric names to current value\n",
        "  return {'batch_loss': average_loss}"
      ],
      "metadata": {
        "id": "1yprqpsNSQH_"
      },
      "execution_count": null,
      "outputs": []
    },
    {
      "cell_type": "markdown",
      "source": [
        "The _loop_step method, added below, executes the decoder and calculates the incremental loss and new decoder state (dec_state)."
      ],
      "metadata": {
        "id": "u6br9T9lTPjb"
      }
    },
    {
      "cell_type": "code",
      "source": [
        "def _loop_step(self, new_tokens, input_mask, enc_output, dec_state):\n",
        "  input_token, target_token = new_tokens[:, 0:1], new_tokens[:, 1:2] # input token as a new_tokens input for the decoder, target_token is for the loss. \n",
        "\n",
        "  # Run the decoder one step.\n",
        "  decoder_input = NestedInput(new_tokens=input_token, enc_output=enc_output, mask=input_mask)\n",
        "  y_pred, _, dec_state = self.decoder(decoder_input, state=dec_state)\n",
        "\n",
        "  # `self.loss` returns the total for non-padded tokens\n",
        "  step_loss = self.loss(target_token, y_pred)\n",
        "\n",
        "  return step_loss, dec_state"
      ],
      "metadata": {
        "id": "nPG2R663TQCs"
      },
      "execution_count": null,
      "outputs": []
    },
    {
      "cell_type": "code",
      "source": [
        "TrainTranslator._create_masks = _create_masks\n",
        "TrainTranslator._train_step = _train_step\n",
        "TrainTranslator._loop_step = _loop_step"
      ],
      "metadata": {
        "id": "GObviYK4TSlM"
      },
      "execution_count": null,
      "outputs": []
    },
    {
      "cell_type": "markdown",
      "source": [
        "### Test the training step\n",
        "Build a `TrainTranslator`, and configure it for training using the `Model.compile` method:"
      ],
      "metadata": {
        "id": "nUbHmO8bTjbh"
      }
    },
    {
      "cell_type": "code",
      "source": [
        "translator = TrainTranslator(\n",
        "    embedding_dim, units, inp_vocab_size=fr_vocab_size, tar_vocab_size=eng_vocab_size,\n",
        "    use_tf_function=False)\n",
        "\n",
        "# Configure the loss and optimizer\n",
        "translator.compile(\n",
        "    optimizer=tf.optimizers.Adam(),\n",
        "    loss=MaskedLoss(),\n",
        ")"
      ],
      "metadata": {
        "id": "kAddLxloTlXU"
      },
      "execution_count": null,
      "outputs": []
    },
    {
      "cell_type": "markdown",
      "source": [
        "The loss should start around: "
      ],
      "metadata": {
        "id": "SSRqSe_6UAaY"
      }
    },
    {
      "cell_type": "code",
      "source": [
        "np.log(eng_vocab_size)"
      ],
      "metadata": {
        "colab": {
          "base_uri": "https://localhost:8080/"
        },
        "id": "6YRA9NQqT5jp",
        "outputId": "a6986802-5bf3-463d-ed85-8391b4937100"
      },
      "execution_count": null,
      "outputs": [
        {
          "output_type": "execute_result",
          "data": {
            "text/plain": [
              "8.688285266258644"
            ]
          },
          "metadata": {},
          "execution_count": 56
        }
      ]
    },
    {
      "cell_type": "code",
      "source": [
        "%%time\n",
        "for n in range(10):\n",
        "  print(translator.train_step((input_tokens, target_tokens)))\n",
        "print(\"done\")"
      ],
      "metadata": {
        "colab": {
          "base_uri": "https://localhost:8080/"
        },
        "id": "tJhZLQC_URzt",
        "outputId": "78bd332c-69f2-416e-ed7b-251763a0df3d"
      },
      "execution_count": null,
      "outputs": [
        {
          "output_type": "stream",
          "name": "stdout",
          "text": [
            "{'batch_loss': <tf.Tensor: shape=(), dtype=float32, numpy=7.301533>}\n",
            "{'batch_loss': <tf.Tensor: shape=(), dtype=float32, numpy=7.298201>}\n",
            "{'batch_loss': <tf.Tensor: shape=(), dtype=float32, numpy=7.2944903>}\n",
            "{'batch_loss': <tf.Tensor: shape=(), dtype=float32, numpy=7.2899904>}\n",
            "{'batch_loss': <tf.Tensor: shape=(), dtype=float32, numpy=7.284255>}\n",
            "{'batch_loss': <tf.Tensor: shape=(), dtype=float32, numpy=7.2767653>}\n",
            "{'batch_loss': <tf.Tensor: shape=(), dtype=float32, numpy=7.2668867>}\n",
            "{'batch_loss': <tf.Tensor: shape=(), dtype=float32, numpy=7.2538114>}\n",
            "{'batch_loss': <tf.Tensor: shape=(), dtype=float32, numpy=7.236515>}\n",
            "{'batch_loss': <tf.Tensor: shape=(), dtype=float32, numpy=7.213669>}\n",
            "done\n",
            "CPU times: user 6.28 s, sys: 444 ms, total: 6.73 s\n",
            "Wall time: 5.74 s\n"
          ]
        }
      ]
    },
    {
      "cell_type": "markdown",
      "source": [
        "While it's easier to debug without a tf.function it does give a performance boost. So now that the _train_step method is working, try the tf.function-wrapped _tf_train_step, to maximize performance while training:"
      ],
      "metadata": {
        "id": "Am-rDzB0UWcK"
      }
    },
    {
      "cell_type": "code",
      "source": [
        "@tf.function(input_signature=[[tf.TensorSpec(dtype=tf.int32, shape=[None, input_tokens.shape[1]]),\n",
        "                               tf.TensorSpec(dtype=tf.int32, shape=[None, target_tokens.shape[1]])]])\n",
        "def _tf_train_step(self, inputs):\n",
        "  return self._train_step(inputs)"
      ],
      "metadata": {
        "id": "sh0NRxZtUVuc"
      },
      "execution_count": null,
      "outputs": []
    },
    {
      "cell_type": "code",
      "source": [
        "TrainTranslator._tf_train_step = _tf_train_step\n",
        "translator.use_tf_function = True"
      ],
      "metadata": {
        "id": "ya6BwoQdUbba"
      },
      "execution_count": null,
      "outputs": []
    },
    {
      "cell_type": "markdown",
      "source": [
        "The first call will be slow, because it traces the function."
      ],
      "metadata": {
        "id": "AEmvefajUkFp"
      }
    },
    {
      "cell_type": "code",
      "source": [
        "translator.train_step([input_tokens, target_tokens])"
      ],
      "metadata": {
        "colab": {
          "base_uri": "https://localhost:8080/"
        },
        "id": "ypmYynP0Ukds",
        "outputId": "09a881db-3742-4f25-af03-79bdb210b9c8"
      },
      "execution_count": null,
      "outputs": [
        {
          "output_type": "execute_result",
          "data": {
            "text/plain": [
              "{'batch_loss': <tf.Tensor: shape=(), dtype=float32, numpy=7.1835523>}"
            ]
          },
          "metadata": {},
          "execution_count": 47
        }
      ]
    },
    {
      "cell_type": "markdown",
      "source": [
        "But after that it's usually 2-3x faster than the eager `train_step` method:"
      ],
      "metadata": {
        "id": "V3mLQAFYU6nM"
      }
    },
    {
      "cell_type": "markdown",
      "source": [
        "A good test of a new model is to see that it can overfit a single batch of input. Try it, the loss should quickly go to zero:"
      ],
      "metadata": {
        "id": "FSK_WdNzVAPH"
      }
    },
    {
      "cell_type": "code",
      "source": [
        "losses = []\n",
        "for n in range(100):\n",
        "  print('.', end='')\n",
        "  logs = translator.train_step([input_tokens, target_tokens])\n",
        "  losses.append(logs['batch_loss'].numpy())\n",
        "\n",
        "print()\n",
        "plt.plot(losses)"
      ],
      "metadata": {
        "colab": {
          "base_uri": "https://localhost:8080/",
          "height": 301
        },
        "id": "atiAO2ECU_dv",
        "outputId": "7380eb16-12b2-4b88-f557-e29783395487"
      },
      "execution_count": null,
      "outputs": [
        {
          "output_type": "stream",
          "name": "stdout",
          "text": [
            "....................................................................................................\n"
          ]
        },
        {
          "output_type": "execute_result",
          "data": {
            "text/plain": [
              "[<matplotlib.lines.Line2D at 0x7ffb0c49b150>]"
            ]
          },
          "metadata": {},
          "execution_count": 61
        },
        {
          "output_type": "display_data",
          "data": {
            "image/png": "[encoded data removed]",
            "text/plain": [
              "<Figure size 432x288 with 1 Axes>"
            ]
          },
          "metadata": {
            "needs_background": "light"
          }
        }
      ]
    },
    {
      "cell_type": "markdown",
      "source": [
        "Now that you're confident that the training step is working, build a fresh copy of the model to train from scratch:"
      ],
      "metadata": {
        "id": "5H7bPZBLVIP2"
      }
    },
    {
      "cell_type": "code",
      "source": [
        "embedding_dim = 128\n",
        "units = 256\n",
        "train_translator = TrainTranslator(\n",
        "    embedding_dim, units, inp_vocab_size=fr_vocab_size, tar_vocab_size=eng_vocab_size,\n",
        "    use_tf_function=False)\n",
        "\n",
        "# Configure the loss and optimizer\n",
        "train_translator.compile(\n",
        "    optimizer=tf.optimizers.Adam(),\n",
        "    loss=MaskedLoss(),\n",
        ")"
      ],
      "metadata": {
        "id": "x7VGB8vmVHTY"
      },
      "execution_count": null,
      "outputs": []
    },
    {
      "cell_type": "markdown",
      "source": [
        "### Train the model\n",
        "\n",
        "While there's nothing wrong with writing your own custom training loop, implementing the `Model.train_step` method, as in the previous section, allows you to run `Model.fit` and avoid rewriting all that boiler-plate code. \n",
        "\n",
        "This tutorial only trains for a couple of epochs, so use a `callbacks.Callback` to collect the history of batch losses, for plotting:"
      ],
      "metadata": {
        "id": "z3cp2tsIVaA1"
      }
    },
    {
      "cell_type": "code",
      "source": [
        "class BatchLogs(tf.keras.callbacks.Callback):\n",
        "  def __init__(self, key):\n",
        "    self.key = key\n",
        "    self.logs = []\n",
        "\n",
        "  def on_train_batch_end(self, n, logs): # method of tf.keras.callbacks.Callback\n",
        "    self.logs.append(logs[self.key])\n",
        "\n",
        "batch_loss = BatchLogs('batch_loss')"
      ],
      "metadata": {
        "id": "68h4O3kBVGRf"
      },
      "execution_count": null,
      "outputs": []
    },
    {
      "cell_type": "code",
      "source": [
        "train_translator.fit(train_dataset, epochs=3,\n",
        "                     callbacks=[batch_loss])"
      ],
      "metadata": {
        "colab": {
          "base_uri": "https://localhost:8080/"
        },
        "id": "TZJZPPVbVvpr",
        "outputId": "e8337b5c-d221-4d81-e767-b587a870af3c"
      },
      "execution_count": null,
      "outputs": [
        {
          "output_type": "stream",
          "name": "stdout",
          "text": [
            "Epoch 1/3\n",
            "625/625 [==============================] - 251s 367ms/step - batch_loss: 3.7594\n",
            "Epoch 2/3\n",
            "625/625 [==============================] - 258s 413ms/step - batch_loss: 2.6962\n",
            "Epoch 3/3\n",
            "625/625 [==============================] - 246s 394ms/step - batch_loss: 2.0234\n"
          ]
        },
        {
          "output_type": "execute_result",
          "data": {
            "text/plain": [
              "<keras.callbacks.History at 0x7f8bd7f5b790>"
            ]
          },
          "metadata": {},
          "execution_count": 50
        }
      ]
    },
    {
      "cell_type": "code",
      "source": [
        "plt.plot(batch_loss.logs)\n",
        "plt.ylim([2, 5])\n",
        "plt.xlabel('Batch #')\n",
        "plt.ylabel('CE/batch')"
      ],
      "metadata": {
        "colab": {
          "base_uri": "https://localhost:8080/",
          "height": 301
        },
        "id": "n2YrqkGfV2V2",
        "outputId": "d17f2e0d-6299-42d0-f73c-a844cd966ee6"
      },
      "execution_count": null,
      "outputs": [
        {
          "output_type": "execute_result",
          "data": {
            "text/plain": [
              "Text(0, 0.5, 'CE/batch')"
            ]
          },
          "metadata": {},
          "execution_count": 66
        },
        {
          "output_type": "display_data",
          "data": {
            "image/png": "[encoded data removed]",
            "text/plain": [
              "<Figure size 432x288 with 1 Axes>"
            ]
          },
          "metadata": {
            "needs_background": "light"
          }
        }
      ]
    },
    {
      "cell_type": "markdown",
      "source": [
        "### Translate\n",
        "Now that the model is trained, implement a function to execute the full `text => text` translation.\n",
        "\n",
        "For this the model needs to invert the `text => token IDs` mapping provided by the `output_text_processor`. It also needs to know the IDs for special tokens. This is all implemented in the constructor for the new class. The implementation of the actual translate method will follow.\n",
        "\n",
        "Overall this is similar to the training loop, except that the input to the decoder at each time step is a sample from the decoder's last prediction."
      ],
      "metadata": {
        "id": "D_s44gJUWDvd"
      }
    },
    {
      "cell_type": "code",
      "source": [
        "class Translator(tf.Module):\n",
        "\n",
        "  def __init__(self, encoder, decoder, output_id2word,\n",
        "               output_word2id):\n",
        "    self.encoder = encoder\n",
        "    self.decoder = decoder\n",
        "    self.output_id2word = output_id2word\n",
        "    self.output_id2word[0] = \"<pad>\"\n",
        "    self.output_word2id = output_word2id\n",
        "    self.output_word2id[\"<pad>\"] = 0\n",
        "\n",
        "    token_mask_ids = [self.output_word2id[w] for w in [\"sos\", \"<pad>\"]]\n",
        "    token_mask = np.zeros([len(self.output_id2word)], dtype=np.bool)\n",
        "    token_mask[np.array(token_mask_ids)] = True\n",
        "    self.token_mask = token_mask\n",
        "\n",
        "    self.start_token = self.output_word2id[\"sos\"]\n",
        "    self.end_token = self.output_word2id[\"eos\"]\n",
        "\n",
        "  def output_token_string_from_index(self, token_ids):\n",
        "    # tokens_ids (batch, seq_len)\n",
        "    tokens_array = []\n",
        "    for i in range(token_ids.shape[0]):\n",
        "      tokens_array.append([self.output_id2word[index] for index in token_ids[i].numpy()])\n",
        "    return tf.constant(tokens_array)"
      ],
      "metadata": {
        "id": "KiClB24rWCQx"
      },
      "execution_count": null,
      "outputs": []
    },
    {
      "cell_type": "code",
      "source": [
        "translator = Translator(\n",
        "    encoder=train_translator.encoder,\n",
        "    decoder=train_translator.decoder,\n",
        "    output_id2word=eng_tokenizer.index_word,\n",
        "    output_word2id=eng_tokenizer.word_index)"
      ],
      "metadata": {
        "id": "WNbSZekdWRUh",
        "colab": {
          "base_uri": "https://localhost:8080/",
          "height": 244
        },
        "outputId": "5e79b03a-2016-4104-ddcf-ed4eed835b01"
      },
      "execution_count": null,
      "outputs": [
        {
          "output_type": "error",
          "ename": "NameError",
          "evalue": "ignored",
          "traceback": [
            "\u001b[0;31m---------------------------------------------------------------------------\u001b[0m",
            "\u001b[0;31mNameError\u001b[0m                                 Traceback (most recent call last)",
            "\u001b[0;32m<ipython-input-51-baa242d317b6>\u001b[0m in \u001b[0;36m<module>\u001b[0;34m()\u001b[0m\n\u001b[0;32m----> 1\u001b[0;31m translator = Translator(\n\u001b[0m\u001b[1;32m      2\u001b[0m     \u001b[0mencoder\u001b[0m\u001b[0;34m=\u001b[0m\u001b[0mtrain_translator\u001b[0m\u001b[0;34m.\u001b[0m\u001b[0mencoder\u001b[0m\u001b[0;34m,\u001b[0m\u001b[0;34m\u001b[0m\u001b[0;34m\u001b[0m\u001b[0m\n\u001b[1;32m      3\u001b[0m     \u001b[0mdecoder\u001b[0m\u001b[0;34m=\u001b[0m\u001b[0mtrain_translator\u001b[0m\u001b[0;34m.\u001b[0m\u001b[0mdecoder\u001b[0m\u001b[0;34m,\u001b[0m\u001b[0;34m\u001b[0m\u001b[0;34m\u001b[0m\u001b[0m\n\u001b[1;32m      4\u001b[0m     \u001b[0moutput_id2word\u001b[0m\u001b[0;34m=\u001b[0m\u001b[0meng_tokenizer\u001b[0m\u001b[0;34m.\u001b[0m\u001b[0mindex_word\u001b[0m\u001b[0;34m,\u001b[0m\u001b[0;34m\u001b[0m\u001b[0;34m\u001b[0m\u001b[0m\n\u001b[1;32m      5\u001b[0m     output_word2id=eng_tokenizer.word_index)\n",
            "\u001b[0;31mNameError\u001b[0m: name 'Translator' is not defined"
          ]
        }
      ]
    },
    {
      "cell_type": "markdown",
      "source": [
        "### Convert token IDs to text\n",
        "The first method to implement is `tokens_to_text` which converts from token IDs to human readable text.  \n",
        "This uses the `tf.strings` module: https://www.tensorflow.org/api_docs/python/tf/strings "
      ],
      "metadata": {
        "id": "WuaPs896WzZq"
      }
    },
    {
      "cell_type": "code",
      "source": [
        "def tokens_to_text(self, result_tokens):\n",
        "  result_text_tokens = self.output_token_string_from_index(result_tokens)\n",
        "  result_text = tf.strings.reduce_join(result_text_tokens,\n",
        "                                       axis=1, separator=' ') #\" \".join(list)\n",
        "  result_text = tf.strings.strip(result_text) # Strip leading and trailing whitespaces from the Tensor.\n",
        "  return result_text # list of decoded sentences over the batch "
      ],
      "metadata": {
        "id": "F0ALKqWGW5KV"
      },
      "execution_count": null,
      "outputs": []
    },
    {
      "cell_type": "code",
      "source": [
        "Translator.tokens_to_text = tokens_to_text"
      ],
      "metadata": {
        "id": "5j0h8BA4W_Xl"
      },
      "execution_count": null,
      "outputs": []
    },
    {
      "cell_type": "markdown",
      "source": [
        "Input some random token IDs and see what it generates:"
      ],
      "metadata": {
        "id": "RzxPaNl9XCq8"
      }
    },
    {
      "cell_type": "code",
      "source": [
        "example_output_tokens = tf.random.uniform(\n",
        "    shape=[5, 2], minval=0, dtype=tf.int64,\n",
        "    maxval=len(eng_tokenizer.index_word)+1)\n",
        "translator.tokens_to_text(example_output_tokens)"
      ],
      "metadata": {
        "colab": {
          "base_uri": "https://localhost:8080/"
        },
        "id": "R4XVgCeJXDg7",
        "outputId": "6758afb2-3905-4d59-bcc1-e195dff03d97"
      },
      "execution_count": null,
      "outputs": [
        {
          "output_type": "execute_result",
          "data": {
            "text/plain": [
              "<tf.Tensor: shape=(5,), dtype=string, numpy=\n",
              "array([b'unreasonable sweated', b'yell shizuoka', b'dozen toothache',\n",
              "       b'practice gentlemen', b'undergrad blinds'], dtype=object)>"
            ]
          },
          "metadata": {},
          "execution_count": 71
        }
      ]
    },
    {
      "cell_type": "markdown",
      "source": [
        "### Sample from the decoder's predictions\n",
        "This function takes the decoder's logit outputs and samples token IDs from that distribution:"
      ],
      "metadata": {
        "id": "WweDPSosXVWP"
      }
    },
    {
      "cell_type": "code",
      "source": [
        "def sample(self, logits, temperature):\n",
        "  # sample with temperature\n",
        "  # if temperature = 0. => greedy decoding. \n",
        "\n",
        "  token_mask = self.token_mask[tf.newaxis, tf.newaxis, :]\n",
        "\n",
        "  # Set the logits for all masked tokens to -inf, so they are never chosen.\n",
        "  logits = tf.where(self.token_mask, -np.inf, logits)\n",
        "\n",
        "  # if temperature == 0:\n",
        "      # greedy decoding: tf.math.argmax()\n",
        "  # else: \n",
        "      # sampling with temperature: logits / temp + tf.random.categorical(logits/temp)\n",
        "\n",
        "\n",
        "  return new_tokens"
      ],
      "metadata": {
        "id": "b7jLZ3fJXc-g"
      },
      "execution_count": null,
      "outputs": []
    },
    {
      "cell_type": "code",
      "source": [
        "Translator.sample = sample"
      ],
      "metadata": {
        "id": "75_iSdvAXlU5"
      },
      "execution_count": null,
      "outputs": []
    },
    {
      "cell_type": "markdown",
      "source": [
        "Test run this function on some random inputs:"
      ],
      "metadata": {
        "id": "RJymVAgXXswW"
      }
    },
    {
      "cell_type": "code",
      "source": [
        "example_logits = tf.random.normal([5, 1, eng_vocab_size]) # check which size of vocabulary to take. \n",
        "example_output_tokens = translator.sample(example_logits, temperature=1.0)\n",
        "example_output_tokens"
      ],
      "metadata": {
        "colab": {
          "base_uri": "https://localhost:8080/"
        },
        "id": "X4vk0qkUXvPz",
        "outputId": "3abd60cf-b35d-4895-80ad-99fd9fb4a068"
      },
      "execution_count": null,
      "outputs": [
        {
          "output_type": "execute_result",
          "data": {
            "text/plain": [
              "<tf.Tensor: shape=(5, 1), dtype=int64, numpy=\n",
              "array([[4377],\n",
              "       [ 565],\n",
              "       [3744],\n",
              "       [2912],\n",
              "       [5852]])>"
            ]
          },
          "metadata": {},
          "execution_count": 74
        }
      ]
    },
    {
      "cell_type": "code",
      "source": [
        "def translate_unrolled(self,\n",
        "                       input_tokens, *,\n",
        "                       max_length=50,\n",
        "                       return_attention=True,\n",
        "                       temperature=1.0):\n",
        "  batch_size = tf.shape(input_tokens)[0]\n",
        "  enc_output, enc_state = self.encoder(input_tokens)\n",
        "\n",
        "  dec_state = enc_state\n",
        "  new_tokens = tf.fill([batch_size, 1], self.start_token)\n",
        "\n",
        "  result_tokens = []\n",
        "  attention = []\n",
        "  done = tf.zeros([batch_size, 1], dtype=tf.bool)\n",
        "\n",
        "  for _ in range(max_length):\n",
        "    # 1. create a NestedInput for the decoder\n",
        "\n",
        "    # 2. Pass forward on the decoder to obtain logits, attention_weights, decoder_state:\n",
        "\n",
        "\n",
        "    # sample new tokens using self.sample:\n",
        "\n",
        "\n",
        "    # If a sequence produces an `end_token`, set it `done`\n",
        "    done = done | (new_tokens == self.end_token)\n",
        "    # Once a sequence is done it only produces 0-padding.\n",
        "    new_tokens = tf.where(done, tf.constant(0, dtype=tf.int64), new_tokens)\n",
        "\n",
        "    # Collect the generated tokens\n",
        "\n",
        " \n",
        "    if tf.executing_eagerly() and tf.reduce_all(done):\n",
        "      break\n",
        "\n",
        "  # Convert the list of generates token ids to a list of strings using self.token_to_text.\n",
        "  \n",
        "\n",
        "  if return_attention:\n",
        "    attention_stack = tf.concat(attention, axis=1)\n",
        "    return {'text': result_text, 'attention': attention_stack}\n",
        "  else:\n",
        "    return {'text': result_text}"
      ],
      "metadata": {
        "id": "26_8LcRwXxnQ"
      },
      "execution_count": null,
      "outputs": []
    },
    {
      "cell_type": "code",
      "source": [
        "Translator.translate = translate_unrolled"
      ],
      "metadata": {
        "id": "QC_HyNA9YGkZ"
      },
      "execution_count": null,
      "outputs": []
    },
    {
      "cell_type": "code",
      "source": [
        "translator = Translator(\n",
        "    encoder=train_translator.encoder,\n",
        "    decoder=train_translator.decoder,\n",
        "    output_id2word=eng_tokenizer.index_word,\n",
        "    output_word2id=eng_tokenizer.word_index)"
      ],
      "metadata": {
        "id": "pnxBgo42GN58"
      },
      "execution_count": null,
      "outputs": []
    },
    {
      "cell_type": "code",
      "source": [
        "%%time\n",
        "input_text = [\n",
        "    'Il fait très froid ici .', # \"It's really cold here.\"\n",
        "    'C est ma vie .', # \"This is my life.\"\"\n",
        "]\n",
        "max_len = max([len(e.split(' ')) for e in input_text])\n",
        "input_tokens = encode_sequences(tokenizer=fr_tokenizer, length=max_len, lines=input_text)\n",
        "\n",
        "result = translator.translate(\n",
        "     input_tokens = input_tokens)\n",
        "\n",
        "print(result['text'][0].numpy().decode())\n",
        "print(result['text'][1].numpy().decode())\n",
        "print()"
      ],
      "metadata": {
        "colab": {
          "base_uri": "https://localhost:8080/"
        },
        "id": "awWOQUSUYarm",
        "outputId": "85f17b82-48d5-4ebb-a00b-f60b2adecbf7"
      },
      "execution_count": null,
      "outputs": [
        {
          "output_type": "stream",
          "name": "stdout",
          "text": [
            "he is skinny <pad> <pad>\n",
            "that s my problem <pad>\n",
            "\n",
            "CPU times: user 133 ms, sys: 3.09 ms, total: 136 ms\n",
            "Wall time: 134 ms\n"
          ]
        }
      ]
    }
  ]
}